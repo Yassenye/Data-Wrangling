{
  "metadata": {
    "kernelspec": {
      "name": "python",
      "display_name": "Python (Pyodide)",
      "language": "python"
    },
    "language_info": {
      "codemirror_mode": {
        "name": "python",
        "version": 3
      },
      "file_extension": ".py",
      "mimetype": "text/x-python",
      "name": "python",
      "nbconvert_exporter": "python",
      "pygments_lexer": "ipython3",
      "version": "3.8"
    },
    "prev_pub_hash": "90ac80ca41fde58b95f02cc0cfc0a0f2ed3115615ffe1bdfdfc10fd5ffeef9a4"
  },
  "nbformat_minor": 4,
  "nbformat": 4,
  "cells": [
    {
      "cell_type": "markdown",
      "source": "<p style=\"text-align:center\">\n    <a href=\"https://skills.network/?utm_medium=Exinfluencer&utm_source=Exinfluencer&utm_content=000026UJ&utm_term=10006555&utm_id=NA-SkillsNetwork-Channel-SkillsNetworkCoursesIBMDA0321ENSkillsNetwork928-2022-01-01\" target=\"_blank\">\n    <img src=\"https://cf-courses-data.s3.us.cloud-object-storage.appdomain.cloud/assets/logos/SN_web_lightmode.png\" width=\"400\" alt=\"Skills Network Logo\"  />\n    </a>\n</p>\n",
      "metadata": {}
    },
    {
      "cell_type": "markdown",
      "source": "# **Data Wrangling Lab**\n",
      "metadata": {}
    },
    {
      "cell_type": "markdown",
      "source": "Estimated time needed: **45 to 60** minutes\n",
      "metadata": {}
    },
    {
      "cell_type": "markdown",
      "source": "In this assignment you will be performing data wrangling.\n",
      "metadata": {}
    },
    {
      "cell_type": "markdown",
      "source": "## Objectives\n",
      "metadata": {}
    },
    {
      "cell_type": "markdown",
      "source": "In this lab you will perform the following:\n",
      "metadata": {}
    },
    {
      "cell_type": "markdown",
      "source": "-   Identify duplicate values in the dataset.\n\n-   Remove duplicate values from the dataset.\n\n-   Identify missing values in the dataset.\n\n-   Impute the missing values in the dataset.\n\n-   Normalize data in the dataset.\n",
      "metadata": {}
    },
    {
      "cell_type": "markdown",
      "source": "<hr>\n",
      "metadata": {}
    },
    {
      "cell_type": "markdown",
      "source": "## Hands on Lab\n",
      "metadata": {}
    },
    {
      "cell_type": "markdown",
      "source": "Import pandas module.\n",
      "metadata": {}
    },
    {
      "cell_type": "code",
      "source": "import pandas as pd",
      "metadata": {
        "trusted": true
      },
      "outputs": [],
      "execution_count": 33
    },
    {
      "cell_type": "markdown",
      "source": "Load the dataset into a dataframe.\n",
      "metadata": {}
    },
    {
      "cell_type": "markdown",
      "source": "<h2>Read Data</h2>\n<p>\nWe utilize the <code>pandas.read_csv()</code> function for reading CSV files. However, in this version of the lab, which operates on JupyterLite, the dataset needs to be downloaded to the interface using the provided code below.\n</p>\n",
      "metadata": {}
    },
    {
      "cell_type": "markdown",
      "source": "The functions below will download the dataset into your browser:\n",
      "metadata": {}
    },
    {
      "cell_type": "code",
      "source": "from pyodide.http import pyfetch\n\nasync def download(url, filename):\n    response = await pyfetch(url)\n    if response.status == 200:\n        with open(filename, \"wb\") as f:\n            f.write(await response.bytes())",
      "metadata": {
        "trusted": true
      },
      "outputs": [],
      "execution_count": 6
    },
    {
      "cell_type": "code",
      "source": "file_path = \"https://cf-courses-data.s3.us.cloud-object-storage.appdomain.cloud/IBM-DA0321EN-SkillsNetwork/LargeData/m1_survey_data.csv\"",
      "metadata": {
        "trusted": true
      },
      "outputs": [],
      "execution_count": 7
    },
    {
      "cell_type": "markdown",
      "source": "To obtain the dataset, utilize the download() function as defined above:  \n",
      "metadata": {}
    },
    {
      "cell_type": "code",
      "source": "await download(file_path, \"m1_survey_data.csv\")\nfile_name=\"m1_survey_data.csv\"",
      "metadata": {
        "trusted": true
      },
      "outputs": [],
      "execution_count": 8
    },
    {
      "cell_type": "markdown",
      "source": "Utilize the Pandas method read_csv() to load the data into a dataframe.\n",
      "metadata": {}
    },
    {
      "cell_type": "code",
      "source": "df = pd.read_csv(file_name)",
      "metadata": {
        "trusted": true
      },
      "outputs": [],
      "execution_count": 9
    },
    {
      "cell_type": "markdown",
      "source": "> Note: This version of the lab is working on JupyterLite, which requires the dataset to be downloaded to the interface.While working on the downloaded version of this notebook on their local machines(Jupyter Anaconda), the learners can simply **skip the steps above,** and simply use the URL directly in the `pandas.read_csv()` function. You can uncomment and run the statements in the cell below.\n",
      "metadata": {}
    },
    {
      "cell_type": "code",
      "source": "#df = pd.read_csv(\"https://cf-courses-data.s3.us.cloud-object-storage.appdomain.cloud/IBM-DA0321EN-SkillsNetwork/LargeData/m1_survey_data.csv\")",
      "metadata": {},
      "outputs": [],
      "execution_count": null
    },
    {
      "cell_type": "markdown",
      "source": "## Finding duplicates\n",
      "metadata": {}
    },
    {
      "cell_type": "markdown",
      "source": "In this section you will identify duplicate values in the dataset.\n",
      "metadata": {}
    },
    {
      "cell_type": "markdown",
      "source": " Find how many duplicate rows exist in the dataframe.\n",
      "metadata": {}
    },
    {
      "cell_type": "code",
      "source": "import pandas as pd",
      "metadata": {
        "trusted": true
      },
      "outputs": [],
      "execution_count": 12
    },
    {
      "cell_type": "code",
      "source": "# your code goes here\nduplicated = df.duplicated().sum()\nprint(duplicated)",
      "metadata": {
        "trusted": true
      },
      "outputs": [
        {
          "name": "stdout",
          "text": "154\n",
          "output_type": "stream"
        }
      ],
      "execution_count": 16
    },
    {
      "cell_type": "code",
      "source": "duplicated = df.duplicated().sum()\nprint(duplicated)\n",
      "metadata": {
        "trusted": true
      },
      "outputs": [
        {
          "name": "stdout",
          "text": "154\n",
          "output_type": "stream"
        }
      ],
      "execution_count": 20
    },
    {
      "cell_type": "markdown",
      "source": "## Removing duplicates\n",
      "metadata": {}
    },
    {
      "cell_type": "markdown",
      "source": "Remove the duplicate rows from the dataframe.\n",
      "metadata": {}
    },
    {
      "cell_type": "code",
      "source": "# your code goes here\ndata_clean = df.drop_duplicates()",
      "metadata": {
        "trusted": true
      },
      "outputs": [],
      "execution_count": 21
    },
    {
      "cell_type": "code",
      "source": "data_clean.shape[0]",
      "metadata": {
        "trusted": true
      },
      "outputs": [
        {
          "execution_count": 27,
          "output_type": "execute_result",
          "data": {
            "text/plain": "11398"
          },
          "metadata": {}
        }
      ],
      "execution_count": 27
    },
    {
      "cell_type": "code",
      "source": "# Number of rows before and after dropping duplicates\nprint(f\"Number of rows before dropping duplicates: {df.shape[0]}\")\nprint(f\"Number of rows after dropping duplicates: {data_clean.shape[0]}\")\n",
      "metadata": {
        "trusted": true
      },
      "outputs": [
        {
          "name": "stdout",
          "text": "Number of rows before dropping duplicates: 11552\nNumber of rows after dropping duplicates: 11398\n",
          "output_type": "stream"
        }
      ],
      "execution_count": 25
    },
    {
      "cell_type": "code",
      "source": "print(data_clean )",
      "metadata": {
        "trusted": true
      },
      "outputs": [
        {
          "name": "stdout",
          "text": "       Respondent                      MainBranch Hobbyist  \\\n0               4  I am a developer by profession       No   \n1               9  I am a developer by profession      Yes   \n2              13  I am a developer by profession      Yes   \n3              16  I am a developer by profession      Yes   \n4              17  I am a developer by profession      Yes   \n...           ...                             ...      ...   \n11547       25136  I am a developer by profession      Yes   \n11548       25137  I am a developer by profession      Yes   \n11549       25138  I am a developer by profession      Yes   \n11550       25141  I am a developer by profession      Yes   \n11551       25142  I am a developer by profession      Yes   \n\n                                             OpenSourcer  \\\n0                                                  Never   \n1                             Once a month or more often   \n2      Less than once a month but more than once per ...   \n3                                                  Never   \n4      Less than once a month but more than once per ...   \n...                                                  ...   \n11547                                              Never   \n11548                                              Never   \n11549                            Less than once per year   \n11550  Less than once a month but more than once per ...   \n11551  Less than once a month but more than once per ...   \n\n                                              OpenSource          Employment  \\\n0      The quality of OSS and closed source software ...  Employed full-time   \n1      The quality of OSS and closed source software ...  Employed full-time   \n2      OSS is, on average, of HIGHER quality than pro...  Employed full-time   \n3      The quality of OSS and closed source software ...  Employed full-time   \n4      The quality of OSS and closed source software ...  Employed full-time   \n...                                                  ...                 ...   \n11547  OSS is, on average, of HIGHER quality than pro...  Employed full-time   \n11548  The quality of OSS and closed source software ...  Employed full-time   \n11549  The quality of OSS and closed source software ...  Employed full-time   \n11550  OSS is, on average, of LOWER quality than prop...  Employed full-time   \n11551  OSS is, on average, of HIGHER quality than pro...  Employed full-time   \n\n              Country Student  \\\n0       United States      No   \n1         New Zealand      No   \n2       United States      No   \n3      United Kingdom      No   \n4           Australia      No   \n...               ...     ...   \n11547   United States      No   \n11548          Poland      No   \n11549   United States      No   \n11550     Switzerland      No   \n11551  United Kingdom      No   \n\n                                                 EdLevel  \\\n0               Bachelor’s degree (BA, BS, B.Eng., etc.)   \n1      Some college/university study without earning ...   \n2            Master’s degree (MA, MS, M.Eng., MBA, etc.)   \n3            Master’s degree (MA, MS, M.Eng., MBA, etc.)   \n4               Bachelor’s degree (BA, BS, B.Eng., etc.)   \n...                                                  ...   \n11547        Master’s degree (MA, MS, M.Eng., MBA, etc.)   \n11548        Master’s degree (MA, MS, M.Eng., MBA, etc.)   \n11549        Master’s degree (MA, MS, M.Eng., MBA, etc.)   \n11550  Secondary school (e.g. American high school, G...   \n11551          Other doctoral degree (Ph.D, Ed.D., etc.)   \n\n                                          UndergradMajor  ...  \\\n0      Computer science, computer engineering, or sof...  ...   \n1      Computer science, computer engineering, or sof...  ...   \n2      Computer science, computer engineering, or sof...  ...   \n3                                                    NaN  ...   \n4      Computer science, computer engineering, or sof...  ...   \n...                                                  ...  ...   \n11547  Computer science, computer engineering, or sof...  ...   \n11548  Computer science, computer engineering, or sof...  ...   \n11549  Computer science, computer engineering, or sof...  ...   \n11550                                                NaN  ...   \n11551  A natural science (ex. biology, chemistry, phy...  ...   \n\n                                  WelcomeChange  \\\n0       Just as welcome now as I felt last year   \n1       Just as welcome now as I felt last year   \n2      Somewhat more welcome now than last year   \n3       Just as welcome now as I felt last year   \n4       Just as welcome now as I felt last year   \n...                                         ...   \n11547   Just as welcome now as I felt last year   \n11548     A lot more welcome now than last year   \n11549     A lot more welcome now than last year   \n11550  Somewhat less welcome now than last year   \n11551   Just as welcome now as I felt last year   \n\n                                            SONewContent   Age Gender Trans  \\\n0      Tech articles written by other developers;Indu...  22.0    Man    No   \n1                                                    NaN  23.0    Man    No   \n2      Tech articles written by other developers;Cour...  28.0    Man    No   \n3      Tech articles written by other developers;Indu...  26.0    Man    No   \n4      Tech articles written by other developers;Indu...  29.0    Man    No   \n...                                                  ...   ...    ...   ...   \n11547  Tech articles written by other developers;Cour...  36.0    Man    No   \n11548  Tech articles written by other developers;Tech...  25.0    Man    No   \n11549  Tech articles written by other developers;Indu...  34.0    Man    No   \n11550                                                NaN  25.0    Man    No   \n11551  Tech articles written by other developers;Tech...  30.0    Man    No   \n\n                     Sexuality                              Ethnicity  \\\n0      Straight / Heterosexual           White or of European descent   \n1                     Bisexual           White or of European descent   \n2      Straight / Heterosexual           White or of European descent   \n3      Straight / Heterosexual           White or of European descent   \n4      Straight / Heterosexual  Hispanic or Latino/Latina;Multiracial   \n...                        ...                                    ...   \n11547  Straight / Heterosexual           White or of European descent   \n11548  Straight / Heterosexual           White or of European descent   \n11549  Straight / Heterosexual           White or of European descent   \n11550  Straight / Heterosexual           White or of European descent   \n11551                 Bisexual           White or of European descent   \n\n      Dependents           SurveyLength                  SurveyEase  \n0             No  Appropriate in length                        Easy  \n1             No  Appropriate in length  Neither easy nor difficult  \n2            Yes  Appropriate in length                        Easy  \n3             No  Appropriate in length  Neither easy nor difficult  \n4             No  Appropriate in length                        Easy  \n...          ...                    ...                         ...  \n11547         No  Appropriate in length                   Difficult  \n11548         No  Appropriate in length  Neither easy nor difficult  \n11549        Yes               Too long                        Easy  \n11550         No  Appropriate in length                        Easy  \n11551         No  Appropriate in length                        Easy  \n\n[11398 rows x 85 columns]\n",
          "output_type": "stream"
        }
      ],
      "execution_count": 32
    },
    {
      "cell_type": "code",
      "source": "rows_befor = df.shape[0]\nprint(rows_befor)",
      "metadata": {
        "trusted": true
      },
      "outputs": [
        {
          "name": "stdout",
          "text": "11552\n",
          "output_type": "stream"
        }
      ],
      "execution_count": 39
    },
    {
      "cell_type": "markdown",
      "source": "Verify if duplicates were actually dropped.\nrows_after = df_clean.shape[0]",
      "metadata": {}
    },
    {
      "cell_type": "code",
      "source": "# your code goes here\nrows_after = data_clean.shape[0]\nprint(rows_after)\nif rows_befor >rows_after:\n    print('Duplicted droped is successfuly.')\nelse:\n    print('Duplicted droped is not successfuly.')",
      "metadata": {
        "trusted": true
      },
      "outputs": [
        {
          "name": "stdout",
          "text": "11398\nDuplicted droped is successfuly.\n",
          "output_type": "stream"
        }
      ],
      "execution_count": 41
    },
    {
      "cell_type": "markdown",
      "source": "## Finding Missing values\n",
      "metadata": {}
    },
    {
      "cell_type": "code",
      "source": "#this mothed to show all the columns in the dataset\npd.options.display.max_columns=150",
      "metadata": {
        "trusted": true
      },
      "outputs": [],
      "execution_count": 60
    },
    {
      "cell_type": "code",
      "source": "data_clean.head(2)",
      "metadata": {
        "trusted": true
      },
      "outputs": [
        {
          "execution_count": 61,
          "output_type": "execute_result",
          "data": {
            "text/plain": "   Respondent                      MainBranch Hobbyist  \\\n0           4  I am a developer by profession       No   \n1           9  I am a developer by profession      Yes   \n\n                  OpenSourcer  \\\n0                       Never   \n1  Once a month or more often   \n\n                                          OpenSource          Employment  \\\n0  The quality of OSS and closed source software ...  Employed full-time   \n1  The quality of OSS and closed source software ...  Employed full-time   \n\n         Country Student                                            EdLevel  \\\n0  United States      No           Bachelor’s degree (BA, BS, B.Eng., etc.)   \n1    New Zealand      No  Some college/university study without earning ...   \n\n                                      UndergradMajor  \\\n0  Computer science, computer engineering, or sof...   \n1  Computer science, computer engineering, or sof...   \n\n                                            EduOther               OrgSize  \\\n0  Taken an online course in programming or softw...  100 to 499 employees   \n1  Taken an online course in programming or softw...    10 to 19 employees   \n\n                                             DevType YearsCode Age1stCode  \\\n0                              Developer, full-stack         3         16   \n1  Database administrator;Developer, back-end;Dev...        12         11   \n\n       YearsCodePro           CareerSat              JobSat  \\\n0  Less than 1 year      Very satisfied  Slightly satisfied   \n1                 4  Slightly satisfied  Slightly satisfied   \n\n             MgrIdiot MgrMoney   MgrWant  \\\n0      Very confident       No  Not sure   \n1  Somewhat confident       No  Not sure   \n\n                                             JobSeek          LastHireDate  \\\n0       I am not interested in new job opportunities  Less than a year ago   \n1  I’m not actively looking, but I am open to new...  Less than a year ago   \n\n                                             LastInt FizzBuzz  \\\n0  Write code by hand (e.g., on a whiteboard);Int...       No   \n1  Write any code;Interview with people in peer r...      Yes   \n\n                                          JobFactors  \\\n0  Languages, frameworks, and other technologies ...   \n1  Financial performance or funding status of the...   \n\n                       ResumeUpdate CurrencySymbol          CurrencyDesc  \\\n0  I was preparing for a job search            USD  United States dollar   \n1  I was preparing for a job search            NZD    New Zealand dollar   \n\n   CompTotal CompFreq  ConvertedComp  WorkWeekHrs  \\\n0    61000.0   Yearly        61000.0         80.0   \n1   138000.0   Yearly        95179.0         32.0   \n\n                                            WorkPlan  \\\n0  There's no schedule or spec; I work on what se...   \n1  There is a schedule and/or spec (made by me or...   \n\n                                       WorkChallenge  \\\n0                                                NaN   \n1  Being tasked with non-development work;Inadequ...   \n\n                         WorkRemote WorkLoc                  ImpSyn  \\\n0  Less than once per month / Never    Home  A little below average   \n1  Less than once per month / Never  Office  A little above average   \n\n                                   CodeRev  CodeRevHrs  \\\n0                                       No         NaN   \n1  Yes, because I see value in code review        12.0   \n\n                                           UnitTests  \\\n0                          No, but I think we should   \n1  Yes, it's not part of our process but the deve...   \n\n                                         PurchaseHow  \\\n0  Developers typically have the most influence o...   \n1                                           Not sure   \n\n                    PurchaseWhat  \\\n0  I have little or no influence   \n1          I have some influence   \n\n                                  LanguageWorkedWith  \\\n0                                C;C++;C#;Python;SQL   \n1  Bash/Shell/PowerShell;C#;HTML/CSS;JavaScript;P...   \n\n                              LanguageDesireNextYear  \\\n0                                C;C#;JavaScript;SQL   \n1  Bash/Shell/PowerShell;C;HTML/CSS;JavaScript;Ru...   \n\n           DatabaseWorkedWith   DatabaseDesireNextYear  \\\n0                MySQL;SQLite             MySQL;SQLite   \n1  DynamoDB;PostgreSQL;SQLite  PostgreSQL;Redis;SQLite   \n\n                    PlatformWorkedWith  \\\n0                        Linux;Windows   \n1  AWS;Docker;Heroku;Linux;MacOS;Slack   \n\n                          PlatformDesireNextYear  \\\n0                                  Linux;Windows   \n1  AWS;Docker;Heroku;Linux;MacOS;Slack;Other(s):   \n\n                WebFrameWorkedWith           WebFrameDesireNextYear  \\\n0                              NaN                              NaN   \n1  Express;Ruby on Rails;Other(s):  Express;Ruby on Rails;Other(s):   \n\n  MiscTechWorkedWith MiscTechDesireNextYear  \\\n0               .NET                   .NET   \n1   Node.js;Unity 3D                Node.js   \n\n                                     DevEnviron    OpSys  \\\n0  Eclipse;Vim;Visual Studio;Visual Studio Code  Windows   \n1                                           Vim    MacOS   \n\n                       Containers BlockchainOrg  \\\n0         I do not use containers    Not at all   \n1  Development;Testing;Production    Not at all   \n\n                                        BlockchainIs BetterLife ITperson  \\\n0  Useful for decentralized currency (i.e., Bitcoin)        Yes     SIGH   \n1                  An irresponsible use of resources         No     SIGH   \n\n  OffOn SocialMedia              Extraversion ScreenName SOVisit1st  \\\n0   Yes      Reddit  In real life (in person)   Username       2014   \n1   Yes     Twitter  In real life (in person)   Username       2013   \n\n             SOVisitFreq                                          SOVisitTo  \\\n0  Daily or almost daily  Find answers to specific questions;Pass the ti...   \n1  Daily or almost daily  Find answers to specific questions;Contribute ...   \n\n         SOFindAnswer                     SOTimeSaved  SOHowMuchTime  \\\n0  1-2 times per week  Stack Overflow was much faster  31-60 minutes   \n1  3-5 times per week        They were about the same            NaN   \n\n  SOAccount                           SOPartFreq  \\\n0       Yes  Less than once per month or monthly   \n1       Yes  Less than once per month or monthly   \n\n                                              SOJobs  \\\n0                                                Yes   \n1  No, I knew that Stack Overflow had a job board...   \n\n                              EntTeams          SOComm  \\\n0  No, and I don't know what those are  No, not really   \n1  No, and I don't know what those are   Yes, somewhat   \n\n                             WelcomeChange  \\\n0  Just as welcome now as I felt last year   \n1  Just as welcome now as I felt last year   \n\n                                        SONewContent   Age Gender Trans  \\\n0  Tech articles written by other developers;Indu...  22.0    Man    No   \n1                                                NaN  23.0    Man    No   \n\n                 Sexuality                     Ethnicity Dependents  \\\n0  Straight / Heterosexual  White or of European descent         No   \n1                 Bisexual  White or of European descent         No   \n\n            SurveyLength                  SurveyEase  \n0  Appropriate in length                        Easy  \n1  Appropriate in length  Neither easy nor difficult  ",
            "text/html": "<div>\n<style scoped>\n    .dataframe tbody tr th:only-of-type {\n        vertical-align: middle;\n    }\n\n    .dataframe tbody tr th {\n        vertical-align: top;\n    }\n\n    .dataframe thead th {\n        text-align: right;\n    }\n</style>\n<table border=\"1\" class=\"dataframe\">\n  <thead>\n    <tr style=\"text-align: right;\">\n      <th></th>\n      <th>Respondent</th>\n      <th>MainBranch</th>\n      <th>Hobbyist</th>\n      <th>OpenSourcer</th>\n      <th>OpenSource</th>\n      <th>Employment</th>\n      <th>Country</th>\n      <th>Student</th>\n      <th>EdLevel</th>\n      <th>UndergradMajor</th>\n      <th>EduOther</th>\n      <th>OrgSize</th>\n      <th>DevType</th>\n      <th>YearsCode</th>\n      <th>Age1stCode</th>\n      <th>YearsCodePro</th>\n      <th>CareerSat</th>\n      <th>JobSat</th>\n      <th>MgrIdiot</th>\n      <th>MgrMoney</th>\n      <th>MgrWant</th>\n      <th>JobSeek</th>\n      <th>LastHireDate</th>\n      <th>LastInt</th>\n      <th>FizzBuzz</th>\n      <th>JobFactors</th>\n      <th>ResumeUpdate</th>\n      <th>CurrencySymbol</th>\n      <th>CurrencyDesc</th>\n      <th>CompTotal</th>\n      <th>CompFreq</th>\n      <th>ConvertedComp</th>\n      <th>WorkWeekHrs</th>\n      <th>WorkPlan</th>\n      <th>WorkChallenge</th>\n      <th>WorkRemote</th>\n      <th>WorkLoc</th>\n      <th>ImpSyn</th>\n      <th>CodeRev</th>\n      <th>CodeRevHrs</th>\n      <th>UnitTests</th>\n      <th>PurchaseHow</th>\n      <th>PurchaseWhat</th>\n      <th>LanguageWorkedWith</th>\n      <th>LanguageDesireNextYear</th>\n      <th>DatabaseWorkedWith</th>\n      <th>DatabaseDesireNextYear</th>\n      <th>PlatformWorkedWith</th>\n      <th>PlatformDesireNextYear</th>\n      <th>WebFrameWorkedWith</th>\n      <th>WebFrameDesireNextYear</th>\n      <th>MiscTechWorkedWith</th>\n      <th>MiscTechDesireNextYear</th>\n      <th>DevEnviron</th>\n      <th>OpSys</th>\n      <th>Containers</th>\n      <th>BlockchainOrg</th>\n      <th>BlockchainIs</th>\n      <th>BetterLife</th>\n      <th>ITperson</th>\n      <th>OffOn</th>\n      <th>SocialMedia</th>\n      <th>Extraversion</th>\n      <th>ScreenName</th>\n      <th>SOVisit1st</th>\n      <th>SOVisitFreq</th>\n      <th>SOVisitTo</th>\n      <th>SOFindAnswer</th>\n      <th>SOTimeSaved</th>\n      <th>SOHowMuchTime</th>\n      <th>SOAccount</th>\n      <th>SOPartFreq</th>\n      <th>SOJobs</th>\n      <th>EntTeams</th>\n      <th>SOComm</th>\n      <th>WelcomeChange</th>\n      <th>SONewContent</th>\n      <th>Age</th>\n      <th>Gender</th>\n      <th>Trans</th>\n      <th>Sexuality</th>\n      <th>Ethnicity</th>\n      <th>Dependents</th>\n      <th>SurveyLength</th>\n      <th>SurveyEase</th>\n    </tr>\n  </thead>\n  <tbody>\n    <tr>\n      <th>0</th>\n      <td>4</td>\n      <td>I am a developer by profession</td>\n      <td>No</td>\n      <td>Never</td>\n      <td>The quality of OSS and closed source software ...</td>\n      <td>Employed full-time</td>\n      <td>United States</td>\n      <td>No</td>\n      <td>Bachelor’s degree (BA, BS, B.Eng., etc.)</td>\n      <td>Computer science, computer engineering, or sof...</td>\n      <td>Taken an online course in programming or softw...</td>\n      <td>100 to 499 employees</td>\n      <td>Developer, full-stack</td>\n      <td>3</td>\n      <td>16</td>\n      <td>Less than 1 year</td>\n      <td>Very satisfied</td>\n      <td>Slightly satisfied</td>\n      <td>Very confident</td>\n      <td>No</td>\n      <td>Not sure</td>\n      <td>I am not interested in new job opportunities</td>\n      <td>Less than a year ago</td>\n      <td>Write code by hand (e.g., on a whiteboard);Int...</td>\n      <td>No</td>\n      <td>Languages, frameworks, and other technologies ...</td>\n      <td>I was preparing for a job search</td>\n      <td>USD</td>\n      <td>United States dollar</td>\n      <td>61000.0</td>\n      <td>Yearly</td>\n      <td>61000.0</td>\n      <td>80.0</td>\n      <td>There's no schedule or spec; I work on what se...</td>\n      <td>NaN</td>\n      <td>Less than once per month / Never</td>\n      <td>Home</td>\n      <td>A little below average</td>\n      <td>No</td>\n      <td>NaN</td>\n      <td>No, but I think we should</td>\n      <td>Developers typically have the most influence o...</td>\n      <td>I have little or no influence</td>\n      <td>C;C++;C#;Python;SQL</td>\n      <td>C;C#;JavaScript;SQL</td>\n      <td>MySQL;SQLite</td>\n      <td>MySQL;SQLite</td>\n      <td>Linux;Windows</td>\n      <td>Linux;Windows</td>\n      <td>NaN</td>\n      <td>NaN</td>\n      <td>.NET</td>\n      <td>.NET</td>\n      <td>Eclipse;Vim;Visual Studio;Visual Studio Code</td>\n      <td>Windows</td>\n      <td>I do not use containers</td>\n      <td>Not at all</td>\n      <td>Useful for decentralized currency (i.e., Bitcoin)</td>\n      <td>Yes</td>\n      <td>SIGH</td>\n      <td>Yes</td>\n      <td>Reddit</td>\n      <td>In real life (in person)</td>\n      <td>Username</td>\n      <td>2014</td>\n      <td>Daily or almost daily</td>\n      <td>Find answers to specific questions;Pass the ti...</td>\n      <td>1-2 times per week</td>\n      <td>Stack Overflow was much faster</td>\n      <td>31-60 minutes</td>\n      <td>Yes</td>\n      <td>Less than once per month or monthly</td>\n      <td>Yes</td>\n      <td>No, and I don't know what those are</td>\n      <td>No, not really</td>\n      <td>Just as welcome now as I felt last year</td>\n      <td>Tech articles written by other developers;Indu...</td>\n      <td>22.0</td>\n      <td>Man</td>\n      <td>No</td>\n      <td>Straight / Heterosexual</td>\n      <td>White or of European descent</td>\n      <td>No</td>\n      <td>Appropriate in length</td>\n      <td>Easy</td>\n    </tr>\n    <tr>\n      <th>1</th>\n      <td>9</td>\n      <td>I am a developer by profession</td>\n      <td>Yes</td>\n      <td>Once a month or more often</td>\n      <td>The quality of OSS and closed source software ...</td>\n      <td>Employed full-time</td>\n      <td>New Zealand</td>\n      <td>No</td>\n      <td>Some college/university study without earning ...</td>\n      <td>Computer science, computer engineering, or sof...</td>\n      <td>Taken an online course in programming or softw...</td>\n      <td>10 to 19 employees</td>\n      <td>Database administrator;Developer, back-end;Dev...</td>\n      <td>12</td>\n      <td>11</td>\n      <td>4</td>\n      <td>Slightly satisfied</td>\n      <td>Slightly satisfied</td>\n      <td>Somewhat confident</td>\n      <td>No</td>\n      <td>Not sure</td>\n      <td>I’m not actively looking, but I am open to new...</td>\n      <td>Less than a year ago</td>\n      <td>Write any code;Interview with people in peer r...</td>\n      <td>Yes</td>\n      <td>Financial performance or funding status of the...</td>\n      <td>I was preparing for a job search</td>\n      <td>NZD</td>\n      <td>New Zealand dollar</td>\n      <td>138000.0</td>\n      <td>Yearly</td>\n      <td>95179.0</td>\n      <td>32.0</td>\n      <td>There is a schedule and/or spec (made by me or...</td>\n      <td>Being tasked with non-development work;Inadequ...</td>\n      <td>Less than once per month / Never</td>\n      <td>Office</td>\n      <td>A little above average</td>\n      <td>Yes, because I see value in code review</td>\n      <td>12.0</td>\n      <td>Yes, it's not part of our process but the deve...</td>\n      <td>Not sure</td>\n      <td>I have some influence</td>\n      <td>Bash/Shell/PowerShell;C#;HTML/CSS;JavaScript;P...</td>\n      <td>Bash/Shell/PowerShell;C;HTML/CSS;JavaScript;Ru...</td>\n      <td>DynamoDB;PostgreSQL;SQLite</td>\n      <td>PostgreSQL;Redis;SQLite</td>\n      <td>AWS;Docker;Heroku;Linux;MacOS;Slack</td>\n      <td>AWS;Docker;Heroku;Linux;MacOS;Slack;Other(s):</td>\n      <td>Express;Ruby on Rails;Other(s):</td>\n      <td>Express;Ruby on Rails;Other(s):</td>\n      <td>Node.js;Unity 3D</td>\n      <td>Node.js</td>\n      <td>Vim</td>\n      <td>MacOS</td>\n      <td>Development;Testing;Production</td>\n      <td>Not at all</td>\n      <td>An irresponsible use of resources</td>\n      <td>No</td>\n      <td>SIGH</td>\n      <td>Yes</td>\n      <td>Twitter</td>\n      <td>In real life (in person)</td>\n      <td>Username</td>\n      <td>2013</td>\n      <td>Daily or almost daily</td>\n      <td>Find answers to specific questions;Contribute ...</td>\n      <td>3-5 times per week</td>\n      <td>They were about the same</td>\n      <td>NaN</td>\n      <td>Yes</td>\n      <td>Less than once per month or monthly</td>\n      <td>No, I knew that Stack Overflow had a job board...</td>\n      <td>No, and I don't know what those are</td>\n      <td>Yes, somewhat</td>\n      <td>Just as welcome now as I felt last year</td>\n      <td>NaN</td>\n      <td>23.0</td>\n      <td>Man</td>\n      <td>No</td>\n      <td>Bisexual</td>\n      <td>White or of European descent</td>\n      <td>No</td>\n      <td>Appropriate in length</td>\n      <td>Neither easy nor difficult</td>\n    </tr>\n  </tbody>\n</table>\n</div>"
          },
          "metadata": {}
        }
      ],
      "execution_count": 61
    },
    {
      "cell_type": "code",
      "source": "data_clean.info()",
      "metadata": {
        "trusted": true
      },
      "outputs": [
        {
          "name": "stdout",
          "text": "<class 'pandas.core.frame.DataFrame'>\nIndex: 11398 entries, 0 to 11551\nData columns (total 85 columns):\n #   Column                  Non-Null Count  Dtype  \n---  ------                  --------------  -----  \n 0   Respondent              11398 non-null  int64  \n 1   MainBranch              11398 non-null  object \n 2   Hobbyist                11398 non-null  object \n 3   OpenSourcer             11398 non-null  object \n 4   OpenSource              11317 non-null  object \n 5   Employment              11398 non-null  object \n 6   Country                 11398 non-null  object \n 7   Student                 11347 non-null  object \n 8   EdLevel                 11286 non-null  object \n 9   UndergradMajor          10661 non-null  object \n 10  EduOther                11234 non-null  object \n 11  OrgSize                 11302 non-null  object \n 12  DevType                 11333 non-null  object \n 13  YearsCode               11389 non-null  object \n 14  Age1stCode              11385 non-null  object \n 15  YearsCodePro            11382 non-null  object \n 16  CareerSat               11398 non-null  object \n 17  JobSat                  11397 non-null  object \n 18  MgrIdiot                10905 non-null  object \n 19  MgrMoney                10901 non-null  object \n 20  MgrWant                 10905 non-null  object \n 21  JobSeek                 11398 non-null  object \n 22  LastHireDate            11398 non-null  object \n 23  LastInt                 10985 non-null  object \n 24  FizzBuzz                11361 non-null  object \n 25  JobFactors              11395 non-null  object \n 26  ResumeUpdate            11359 non-null  object \n 27  CurrencySymbol          11398 non-null  object \n 28  CurrencyDesc            11398 non-null  object \n 29  CompTotal               10589 non-null  float64\n 30  CompFreq                11192 non-null  object \n 31  ConvertedComp           10582 non-null  float64\n 32  WorkWeekHrs             11276 non-null  float64\n 33  WorkPlan                11277 non-null  object \n 34  WorkChallenge           11234 non-null  object \n 35  WorkRemote              11390 non-null  object \n 36  WorkLoc                 11366 non-null  object \n 37  ImpSyn                  11393 non-null  object \n 38  CodeRev                 11397 non-null  object \n 39  CodeRevHrs              8972 non-null   float64\n 40  UnitTests               11369 non-null  object \n 41  PurchaseHow             11202 non-null  object \n 42  PurchaseWhat            11360 non-null  object \n 43  LanguageWorkedWith      11387 non-null  object \n 44  LanguageDesireNextYear  11264 non-null  object \n 45  DatabaseWorkedWith      10945 non-null  object \n 46  DatabaseDesireNextYear  10356 non-null  object \n 47  PlatformWorkedWith      10987 non-null  object \n 48  PlatformDesireNextYear  10854 non-null  object \n 49  WebFrameWorkedWith      10005 non-null  object \n 50  WebFrameDesireNextYear  9781 non-null   object \n 51  MiscTechWorkedWith      9216 non-null   object \n 52  MiscTechDesireNextYear  9943 non-null   object \n 53  DevEnviron              11369 non-null  object \n 54  OpSys                   11364 non-null  object \n 55  Containers              11316 non-null  object \n 56  BlockchainOrg           9076 non-null   object \n 57  BlockchainIs            8788 non-null   object \n 58  BetterLife              11300 non-null  object \n 59  ITperson                11363 non-null  object \n 60  OffOn                   11360 non-null  object \n 61  SocialMedia             11105 non-null  object \n 62  Extraversion            11378 non-null  object \n 63  ScreenName              10891 non-null  object \n 64  SOVisit1st              11073 non-null  object \n 65  SOVisitFreq             11393 non-null  object \n 66  SOVisitTo               11397 non-null  object \n 67  SOFindAnswer            11395 non-null  object \n 68  SOTimeSaved             11348 non-null  object \n 69  SOHowMuchTime           9481 non-null   object \n 70  SOAccount               11397 non-null  object \n 71  SOPartFreq              10270 non-null  object \n 72  SOJobs                  11392 non-null  object \n 73  EntTeams                11393 non-null  object \n 74  SOComm                  11398 non-null  object \n 75  WelcomeChange           11313 non-null  object \n 76  SONewContent            9433 non-null   object \n 77  Age                     11111 non-null  float64\n 78  Gender                  11325 non-null  object \n 79  Trans                   11275 non-null  object \n 80  Sexuality               10856 non-null  object \n 81  Ethnicity               10723 non-null  object \n 82  Dependents              11258 non-null  object \n 83  SurveyLength            11379 non-null  object \n 84  SurveyEase              11384 non-null  object \ndtypes: float64(5), int64(1), object(79)\nmemory usage: 4.0+ MB\n",
          "output_type": "stream"
        }
      ],
      "execution_count": 62
    },
    {
      "cell_type": "code",
      "source": "data_clean.count()",
      "metadata": {
        "trusted": true
      },
      "outputs": [
        {
          "execution_count": 63,
          "output_type": "execute_result",
          "data": {
            "text/plain": "Respondent      11398\nMainBranch      11398\nHobbyist        11398\nOpenSourcer     11398\nOpenSource      11317\n                ...  \nSexuality       10856\nEthnicity       10723\nDependents      11258\nSurveyLength    11379\nSurveyEase      11384\nLength: 85, dtype: int64"
          },
          "metadata": {}
        }
      ],
      "execution_count": 63
    },
    {
      "cell_type": "code",
      "source": "data_missing = data_clean.isna()\ndata_missing.head()",
      "metadata": {
        "trusted": true
      },
      "outputs": [
        {
          "execution_count": 65,
          "output_type": "execute_result",
          "data": {
            "text/plain": "   Respondent  MainBranch  Hobbyist  OpenSourcer  OpenSource  Employment  \\\n0       False       False     False        False       False       False   \n1       False       False     False        False       False       False   \n2       False       False     False        False       False       False   \n3       False       False     False        False       False       False   \n4       False       False     False        False       False       False   \n\n   Country  Student  EdLevel  UndergradMajor  EduOther  OrgSize  DevType  \\\n0    False    False    False           False     False    False    False   \n1    False    False    False           False     False    False    False   \n2    False    False    False           False     False    False    False   \n3    False    False    False            True     False    False    False   \n4    False    False    False           False     False    False    False   \n\n   YearsCode  Age1stCode  YearsCodePro  CareerSat  JobSat  MgrIdiot  MgrMoney  \\\n0      False       False         False      False   False     False     False   \n1      False       False         False      False   False     False     False   \n2      False       False         False      False   False      True      True   \n3      False       False         False      False   False     False     False   \n4      False       False         False      False   False     False     False   \n\n   MgrWant  JobSeek  LastHireDate  LastInt  FizzBuzz  JobFactors  \\\n0    False    False         False    False     False       False   \n1    False    False         False    False     False       False   \n2     True    False         False    False     False       False   \n3    False    False         False    False     False       False   \n4    False    False         False    False     False       False   \n\n   ResumeUpdate  CurrencySymbol  CurrencyDesc  CompTotal  CompFreq  \\\n0         False           False         False      False     False   \n1         False           False         False      False     False   \n2         False           False         False      False     False   \n3         False           False         False      False     False   \n4         False           False         False      False     False   \n\n   ConvertedComp  WorkWeekHrs  WorkPlan  WorkChallenge  WorkRemote  WorkLoc  \\\n0          False        False     False           True       False    False   \n1          False        False     False          False       False    False   \n2          False        False     False          False       False    False   \n3          False        False     False          False       False    False   \n4          False        False     False          False       False    False   \n\n   ImpSyn  CodeRev  CodeRevHrs  UnitTests  PurchaseHow  PurchaseWhat  \\\n0   False    False        True      False        False         False   \n1   False    False       False      False        False         False   \n2   False    False       False      False        False         False   \n3   False    False        True      False        False         False   \n4   False    False       False      False        False         False   \n\n   LanguageWorkedWith  LanguageDesireNextYear  DatabaseWorkedWith  \\\n0               False                   False               False   \n1               False                   False               False   \n2               False                   False               False   \n3               False                   False               False   \n4               False                   False               False   \n\n   DatabaseDesireNextYear  PlatformWorkedWith  PlatformDesireNextYear  \\\n0                   False               False                   False   \n1                   False               False                   False   \n2                   False               False                   False   \n3                   False                True                   False   \n4                   False               False                   False   \n\n   WebFrameWorkedWith  WebFrameDesireNextYear  MiscTechWorkedWith  \\\n0                True                    True               False   \n1               False                   False               False   \n2               False                   False               False   \n3               False                   False               False   \n4               False                   False               False   \n\n   MiscTechDesireNextYear  DevEnviron  OpSys  Containers  BlockchainOrg  \\\n0                   False       False  False       False          False   \n1                   False       False  False       False          False   \n2                   False       False  False       False          False   \n3                   False       False  False       False          False   \n4                   False       False  False       False          False   \n\n   BlockchainIs  BetterLife  ITperson  OffOn  SocialMedia  Extraversion  \\\n0         False       False     False  False        False         False   \n1         False       False     False  False        False         False   \n2         False       False     False  False        False         False   \n3         False       False     False  False        False         False   \n4         False       False     False  False        False         False   \n\n   ScreenName  SOVisit1st  SOVisitFreq  SOVisitTo  SOFindAnswer  SOTimeSaved  \\\n0       False       False        False      False         False        False   \n1       False       False        False      False         False        False   \n2       False       False        False      False         False        False   \n3       False       False        False      False         False        False   \n4        True       False        False      False         False        False   \n\n   SOHowMuchTime  SOAccount  SOPartFreq  SOJobs  EntTeams  SOComm  \\\n0          False      False       False   False     False   False   \n1           True      False       False   False     False   False   \n2          False      False       False   False     False   False   \n3          False      False       False   False     False   False   \n4          False      False       False   False     False   False   \n\n   WelcomeChange  SONewContent    Age  Gender  Trans  Sexuality  Ethnicity  \\\n0          False         False  False   False  False      False      False   \n1          False          True  False   False  False      False      False   \n2          False         False  False   False  False      False      False   \n3          False         False  False   False  False      False      False   \n4          False         False  False   False  False      False      False   \n\n   Dependents  SurveyLength  SurveyEase  \n0       False         False       False  \n1       False         False       False  \n2       False         False       False  \n3       False         False       False  \n4       False         False       False  ",
            "text/html": "<div>\n<style scoped>\n    .dataframe tbody tr th:only-of-type {\n        vertical-align: middle;\n    }\n\n    .dataframe tbody tr th {\n        vertical-align: top;\n    }\n\n    .dataframe thead th {\n        text-align: right;\n    }\n</style>\n<table border=\"1\" class=\"dataframe\">\n  <thead>\n    <tr style=\"text-align: right;\">\n      <th></th>\n      <th>Respondent</th>\n      <th>MainBranch</th>\n      <th>Hobbyist</th>\n      <th>OpenSourcer</th>\n      <th>OpenSource</th>\n      <th>Employment</th>\n      <th>Country</th>\n      <th>Student</th>\n      <th>EdLevel</th>\n      <th>UndergradMajor</th>\n      <th>EduOther</th>\n      <th>OrgSize</th>\n      <th>DevType</th>\n      <th>YearsCode</th>\n      <th>Age1stCode</th>\n      <th>YearsCodePro</th>\n      <th>CareerSat</th>\n      <th>JobSat</th>\n      <th>MgrIdiot</th>\n      <th>MgrMoney</th>\n      <th>MgrWant</th>\n      <th>JobSeek</th>\n      <th>LastHireDate</th>\n      <th>LastInt</th>\n      <th>FizzBuzz</th>\n      <th>JobFactors</th>\n      <th>ResumeUpdate</th>\n      <th>CurrencySymbol</th>\n      <th>CurrencyDesc</th>\n      <th>CompTotal</th>\n      <th>CompFreq</th>\n      <th>ConvertedComp</th>\n      <th>WorkWeekHrs</th>\n      <th>WorkPlan</th>\n      <th>WorkChallenge</th>\n      <th>WorkRemote</th>\n      <th>WorkLoc</th>\n      <th>ImpSyn</th>\n      <th>CodeRev</th>\n      <th>CodeRevHrs</th>\n      <th>UnitTests</th>\n      <th>PurchaseHow</th>\n      <th>PurchaseWhat</th>\n      <th>LanguageWorkedWith</th>\n      <th>LanguageDesireNextYear</th>\n      <th>DatabaseWorkedWith</th>\n      <th>DatabaseDesireNextYear</th>\n      <th>PlatformWorkedWith</th>\n      <th>PlatformDesireNextYear</th>\n      <th>WebFrameWorkedWith</th>\n      <th>WebFrameDesireNextYear</th>\n      <th>MiscTechWorkedWith</th>\n      <th>MiscTechDesireNextYear</th>\n      <th>DevEnviron</th>\n      <th>OpSys</th>\n      <th>Containers</th>\n      <th>BlockchainOrg</th>\n      <th>BlockchainIs</th>\n      <th>BetterLife</th>\n      <th>ITperson</th>\n      <th>OffOn</th>\n      <th>SocialMedia</th>\n      <th>Extraversion</th>\n      <th>ScreenName</th>\n      <th>SOVisit1st</th>\n      <th>SOVisitFreq</th>\n      <th>SOVisitTo</th>\n      <th>SOFindAnswer</th>\n      <th>SOTimeSaved</th>\n      <th>SOHowMuchTime</th>\n      <th>SOAccount</th>\n      <th>SOPartFreq</th>\n      <th>SOJobs</th>\n      <th>EntTeams</th>\n      <th>SOComm</th>\n      <th>WelcomeChange</th>\n      <th>SONewContent</th>\n      <th>Age</th>\n      <th>Gender</th>\n      <th>Trans</th>\n      <th>Sexuality</th>\n      <th>Ethnicity</th>\n      <th>Dependents</th>\n      <th>SurveyLength</th>\n      <th>SurveyEase</th>\n    </tr>\n  </thead>\n  <tbody>\n    <tr>\n      <th>0</th>\n      <td>False</td>\n      <td>False</td>\n      <td>False</td>\n      <td>False</td>\n      <td>False</td>\n      <td>False</td>\n      <td>False</td>\n      <td>False</td>\n      <td>False</td>\n      <td>False</td>\n      <td>False</td>\n      <td>False</td>\n      <td>False</td>\n      <td>False</td>\n      <td>False</td>\n      <td>False</td>\n      <td>False</td>\n      <td>False</td>\n      <td>False</td>\n      <td>False</td>\n      <td>False</td>\n      <td>False</td>\n      <td>False</td>\n      <td>False</td>\n      <td>False</td>\n      <td>False</td>\n      <td>False</td>\n      <td>False</td>\n      <td>False</td>\n      <td>False</td>\n      <td>False</td>\n      <td>False</td>\n      <td>False</td>\n      <td>False</td>\n      <td>True</td>\n      <td>False</td>\n      <td>False</td>\n      <td>False</td>\n      <td>False</td>\n      <td>True</td>\n      <td>False</td>\n      <td>False</td>\n      <td>False</td>\n      <td>False</td>\n      <td>False</td>\n      <td>False</td>\n      <td>False</td>\n      <td>False</td>\n      <td>False</td>\n      <td>True</td>\n      <td>True</td>\n      <td>False</td>\n      <td>False</td>\n      <td>False</td>\n      <td>False</td>\n      <td>False</td>\n      <td>False</td>\n      <td>False</td>\n      <td>False</td>\n      <td>False</td>\n      <td>False</td>\n      <td>False</td>\n      <td>False</td>\n      <td>False</td>\n      <td>False</td>\n      <td>False</td>\n      <td>False</td>\n      <td>False</td>\n      <td>False</td>\n      <td>False</td>\n      <td>False</td>\n      <td>False</td>\n      <td>False</td>\n      <td>False</td>\n      <td>False</td>\n      <td>False</td>\n      <td>False</td>\n      <td>False</td>\n      <td>False</td>\n      <td>False</td>\n      <td>False</td>\n      <td>False</td>\n      <td>False</td>\n      <td>False</td>\n      <td>False</td>\n    </tr>\n    <tr>\n      <th>1</th>\n      <td>False</td>\n      <td>False</td>\n      <td>False</td>\n      <td>False</td>\n      <td>False</td>\n      <td>False</td>\n      <td>False</td>\n      <td>False</td>\n      <td>False</td>\n      <td>False</td>\n      <td>False</td>\n      <td>False</td>\n      <td>False</td>\n      <td>False</td>\n      <td>False</td>\n      <td>False</td>\n      <td>False</td>\n      <td>False</td>\n      <td>False</td>\n      <td>False</td>\n      <td>False</td>\n      <td>False</td>\n      <td>False</td>\n      <td>False</td>\n      <td>False</td>\n      <td>False</td>\n      <td>False</td>\n      <td>False</td>\n      <td>False</td>\n      <td>False</td>\n      <td>False</td>\n      <td>False</td>\n      <td>False</td>\n      <td>False</td>\n      <td>False</td>\n      <td>False</td>\n      <td>False</td>\n      <td>False</td>\n      <td>False</td>\n      <td>False</td>\n      <td>False</td>\n      <td>False</td>\n      <td>False</td>\n      <td>False</td>\n      <td>False</td>\n      <td>False</td>\n      <td>False</td>\n      <td>False</td>\n      <td>False</td>\n      <td>False</td>\n      <td>False</td>\n      <td>False</td>\n      <td>False</td>\n      <td>False</td>\n      <td>False</td>\n      <td>False</td>\n      <td>False</td>\n      <td>False</td>\n      <td>False</td>\n      <td>False</td>\n      <td>False</td>\n      <td>False</td>\n      <td>False</td>\n      <td>False</td>\n      <td>False</td>\n      <td>False</td>\n      <td>False</td>\n      <td>False</td>\n      <td>False</td>\n      <td>True</td>\n      <td>False</td>\n      <td>False</td>\n      <td>False</td>\n      <td>False</td>\n      <td>False</td>\n      <td>False</td>\n      <td>True</td>\n      <td>False</td>\n      <td>False</td>\n      <td>False</td>\n      <td>False</td>\n      <td>False</td>\n      <td>False</td>\n      <td>False</td>\n      <td>False</td>\n    </tr>\n    <tr>\n      <th>2</th>\n      <td>False</td>\n      <td>False</td>\n      <td>False</td>\n      <td>False</td>\n      <td>False</td>\n      <td>False</td>\n      <td>False</td>\n      <td>False</td>\n      <td>False</td>\n      <td>False</td>\n      <td>False</td>\n      <td>False</td>\n      <td>False</td>\n      <td>False</td>\n      <td>False</td>\n      <td>False</td>\n      <td>False</td>\n      <td>False</td>\n      <td>True</td>\n      <td>True</td>\n      <td>True</td>\n      <td>False</td>\n      <td>False</td>\n      <td>False</td>\n      <td>False</td>\n      <td>False</td>\n      <td>False</td>\n      <td>False</td>\n      <td>False</td>\n      <td>False</td>\n      <td>False</td>\n      <td>False</td>\n      <td>False</td>\n      <td>False</td>\n      <td>False</td>\n      <td>False</td>\n      <td>False</td>\n      <td>False</td>\n      <td>False</td>\n      <td>False</td>\n      <td>False</td>\n      <td>False</td>\n      <td>False</td>\n      <td>False</td>\n      <td>False</td>\n      <td>False</td>\n      <td>False</td>\n      <td>False</td>\n      <td>False</td>\n      <td>False</td>\n      <td>False</td>\n      <td>False</td>\n      <td>False</td>\n      <td>False</td>\n      <td>False</td>\n      <td>False</td>\n      <td>False</td>\n      <td>False</td>\n      <td>False</td>\n      <td>False</td>\n      <td>False</td>\n      <td>False</td>\n      <td>False</td>\n      <td>False</td>\n      <td>False</td>\n      <td>False</td>\n      <td>False</td>\n      <td>False</td>\n      <td>False</td>\n      <td>False</td>\n      <td>False</td>\n      <td>False</td>\n      <td>False</td>\n      <td>False</td>\n      <td>False</td>\n      <td>False</td>\n      <td>False</td>\n      <td>False</td>\n      <td>False</td>\n      <td>False</td>\n      <td>False</td>\n      <td>False</td>\n      <td>False</td>\n      <td>False</td>\n      <td>False</td>\n    </tr>\n    <tr>\n      <th>3</th>\n      <td>False</td>\n      <td>False</td>\n      <td>False</td>\n      <td>False</td>\n      <td>False</td>\n      <td>False</td>\n      <td>False</td>\n      <td>False</td>\n      <td>False</td>\n      <td>True</td>\n      <td>False</td>\n      <td>False</td>\n      <td>False</td>\n      <td>False</td>\n      <td>False</td>\n      <td>False</td>\n      <td>False</td>\n      <td>False</td>\n      <td>False</td>\n      <td>False</td>\n      <td>False</td>\n      <td>False</td>\n      <td>False</td>\n      <td>False</td>\n      <td>False</td>\n      <td>False</td>\n      <td>False</td>\n      <td>False</td>\n      <td>False</td>\n      <td>False</td>\n      <td>False</td>\n      <td>False</td>\n      <td>False</td>\n      <td>False</td>\n      <td>False</td>\n      <td>False</td>\n      <td>False</td>\n      <td>False</td>\n      <td>False</td>\n      <td>True</td>\n      <td>False</td>\n      <td>False</td>\n      <td>False</td>\n      <td>False</td>\n      <td>False</td>\n      <td>False</td>\n      <td>False</td>\n      <td>True</td>\n      <td>False</td>\n      <td>False</td>\n      <td>False</td>\n      <td>False</td>\n      <td>False</td>\n      <td>False</td>\n      <td>False</td>\n      <td>False</td>\n      <td>False</td>\n      <td>False</td>\n      <td>False</td>\n      <td>False</td>\n      <td>False</td>\n      <td>False</td>\n      <td>False</td>\n      <td>False</td>\n      <td>False</td>\n      <td>False</td>\n      <td>False</td>\n      <td>False</td>\n      <td>False</td>\n      <td>False</td>\n      <td>False</td>\n      <td>False</td>\n      <td>False</td>\n      <td>False</td>\n      <td>False</td>\n      <td>False</td>\n      <td>False</td>\n      <td>False</td>\n      <td>False</td>\n      <td>False</td>\n      <td>False</td>\n      <td>False</td>\n      <td>False</td>\n      <td>False</td>\n      <td>False</td>\n    </tr>\n    <tr>\n      <th>4</th>\n      <td>False</td>\n      <td>False</td>\n      <td>False</td>\n      <td>False</td>\n      <td>False</td>\n      <td>False</td>\n      <td>False</td>\n      <td>False</td>\n      <td>False</td>\n      <td>False</td>\n      <td>False</td>\n      <td>False</td>\n      <td>False</td>\n      <td>False</td>\n      <td>False</td>\n      <td>False</td>\n      <td>False</td>\n      <td>False</td>\n      <td>False</td>\n      <td>False</td>\n      <td>False</td>\n      <td>False</td>\n      <td>False</td>\n      <td>False</td>\n      <td>False</td>\n      <td>False</td>\n      <td>False</td>\n      <td>False</td>\n      <td>False</td>\n      <td>False</td>\n      <td>False</td>\n      <td>False</td>\n      <td>False</td>\n      <td>False</td>\n      <td>False</td>\n      <td>False</td>\n      <td>False</td>\n      <td>False</td>\n      <td>False</td>\n      <td>False</td>\n      <td>False</td>\n      <td>False</td>\n      <td>False</td>\n      <td>False</td>\n      <td>False</td>\n      <td>False</td>\n      <td>False</td>\n      <td>False</td>\n      <td>False</td>\n      <td>False</td>\n      <td>False</td>\n      <td>False</td>\n      <td>False</td>\n      <td>False</td>\n      <td>False</td>\n      <td>False</td>\n      <td>False</td>\n      <td>False</td>\n      <td>False</td>\n      <td>False</td>\n      <td>False</td>\n      <td>False</td>\n      <td>False</td>\n      <td>True</td>\n      <td>False</td>\n      <td>False</td>\n      <td>False</td>\n      <td>False</td>\n      <td>False</td>\n      <td>False</td>\n      <td>False</td>\n      <td>False</td>\n      <td>False</td>\n      <td>False</td>\n      <td>False</td>\n      <td>False</td>\n      <td>False</td>\n      <td>False</td>\n      <td>False</td>\n      <td>False</td>\n      <td>False</td>\n      <td>False</td>\n      <td>False</td>\n      <td>False</td>\n      <td>False</td>\n    </tr>\n  </tbody>\n</table>\n</div>"
          },
          "metadata": {}
        }
      ],
      "execution_count": 65
    },
    {
      "cell_type": "code",
      "source": "data_missing.dtypes",
      "metadata": {
        "trusted": true
      },
      "outputs": [
        {
          "execution_count": 70,
          "output_type": "execute_result",
          "data": {
            "text/plain": "Respondent      bool\nMainBranch      bool\nHobbyist        bool\nOpenSourcer     bool\nOpenSource      bool\n                ... \nSexuality       bool\nEthnicity       bool\nDependents      bool\nSurveyLength    bool\nSurveyEase      bool\nLength: 85, dtype: object"
          },
          "metadata": {}
        }
      ],
      "execution_count": 70
    },
    {
      "cell_type": "code",
      "source": "data_missing.sum()",
      "metadata": {
        "trusted": true
      },
      "outputs": [
        {
          "execution_count": 71,
          "output_type": "execute_result",
          "data": {
            "text/plain": "Respondent        0\nMainBranch        0\nHobbyist          0\nOpenSourcer       0\nOpenSource       81\n               ... \nSexuality       542\nEthnicity       675\nDependents      140\nSurveyLength     19\nSurveyEase       14\nLength: 85, dtype: int64"
          },
          "metadata": {}
        }
      ],
      "execution_count": 71
    },
    {
      "cell_type": "markdown",
      "source": "Find the missing values for all columns.",
      "metadata": {}
    },
    {
      "cell_type": "code",
      "source": "# your code goes here\ndata_missing.sum()",
      "metadata": {
        "trusted": true
      },
      "outputs": [
        {
          "execution_count": 72,
          "output_type": "execute_result",
          "data": {
            "text/plain": "Respondent        0\nMainBranch        0\nHobbyist          0\nOpenSourcer       0\nOpenSource       81\n               ... \nSexuality       542\nEthnicity       675\nDependents      140\nSurveyLength     19\nSurveyEase       14\nLength: 85, dtype: int64"
          },
          "metadata": {}
        }
      ],
      "execution_count": 72
    },
    {
      "cell_type": "code",
      "source": "len(data_missing)",
      "metadata": {
        "trusted": true
      },
      "outputs": [
        {
          "execution_count": 73,
          "output_type": "execute_result",
          "data": {
            "text/plain": "11398"
          },
          "metadata": {}
        }
      ],
      "execution_count": 73
    },
    {
      "cell_type": "code",
      "source": "data_missing.head(5)",
      "metadata": {
        "trusted": true
      },
      "outputs": [
        {
          "execution_count": 78,
          "output_type": "execute_result",
          "data": {
            "text/plain": "   Respondent  MainBranch  Hobbyist  OpenSourcer  OpenSource  Employment  \\\n0       False       False     False        False       False       False   \n1       False       False     False        False       False       False   \n2       False       False     False        False       False       False   \n3       False       False     False        False       False       False   \n4       False       False     False        False       False       False   \n\n   Country  Student  EdLevel  UndergradMajor  EduOther  OrgSize  DevType  \\\n0    False    False    False           False     False    False    False   \n1    False    False    False           False     False    False    False   \n2    False    False    False           False     False    False    False   \n3    False    False    False            True     False    False    False   \n4    False    False    False           False     False    False    False   \n\n   YearsCode  Age1stCode  YearsCodePro  CareerSat  JobSat  MgrIdiot  MgrMoney  \\\n0      False       False         False      False   False     False     False   \n1      False       False         False      False   False     False     False   \n2      False       False         False      False   False      True      True   \n3      False       False         False      False   False     False     False   \n4      False       False         False      False   False     False     False   \n\n   MgrWant  JobSeek  LastHireDate  LastInt  FizzBuzz  JobFactors  \\\n0    False    False         False    False     False       False   \n1    False    False         False    False     False       False   \n2     True    False         False    False     False       False   \n3    False    False         False    False     False       False   \n4    False    False         False    False     False       False   \n\n   ResumeUpdate  CurrencySymbol  CurrencyDesc  CompTotal  CompFreq  \\\n0         False           False         False      False     False   \n1         False           False         False      False     False   \n2         False           False         False      False     False   \n3         False           False         False      False     False   \n4         False           False         False      False     False   \n\n   ConvertedComp  WorkWeekHrs  WorkPlan  WorkChallenge  WorkRemote  WorkLoc  \\\n0          False        False     False           True       False    False   \n1          False        False     False          False       False    False   \n2          False        False     False          False       False    False   \n3          False        False     False          False       False    False   \n4          False        False     False          False       False    False   \n\n   ImpSyn  CodeRev  CodeRevHrs  UnitTests  PurchaseHow  PurchaseWhat  \\\n0   False    False        True      False        False         False   \n1   False    False       False      False        False         False   \n2   False    False       False      False        False         False   \n3   False    False        True      False        False         False   \n4   False    False       False      False        False         False   \n\n   LanguageWorkedWith  LanguageDesireNextYear  DatabaseWorkedWith  \\\n0               False                   False               False   \n1               False                   False               False   \n2               False                   False               False   \n3               False                   False               False   \n4               False                   False               False   \n\n   DatabaseDesireNextYear  PlatformWorkedWith  PlatformDesireNextYear  \\\n0                   False               False                   False   \n1                   False               False                   False   \n2                   False               False                   False   \n3                   False                True                   False   \n4                   False               False                   False   \n\n   WebFrameWorkedWith  WebFrameDesireNextYear  MiscTechWorkedWith  \\\n0                True                    True               False   \n1               False                   False               False   \n2               False                   False               False   \n3               False                   False               False   \n4               False                   False               False   \n\n   MiscTechDesireNextYear  DevEnviron  OpSys  Containers  BlockchainOrg  \\\n0                   False       False  False       False          False   \n1                   False       False  False       False          False   \n2                   False       False  False       False          False   \n3                   False       False  False       False          False   \n4                   False       False  False       False          False   \n\n   BlockchainIs  BetterLife  ITperson  OffOn  SocialMedia  Extraversion  \\\n0         False       False     False  False        False         False   \n1         False       False     False  False        False         False   \n2         False       False     False  False        False         False   \n3         False       False     False  False        False         False   \n4         False       False     False  False        False         False   \n\n   ScreenName  SOVisit1st  SOVisitFreq  SOVisitTo  SOFindAnswer  SOTimeSaved  \\\n0       False       False        False      False         False        False   \n1       False       False        False      False         False        False   \n2       False       False        False      False         False        False   \n3       False       False        False      False         False        False   \n4        True       False        False      False         False        False   \n\n   SOHowMuchTime  SOAccount  SOPartFreq  SOJobs  EntTeams  SOComm  \\\n0          False      False       False   False     False   False   \n1           True      False       False   False     False   False   \n2          False      False       False   False     False   False   \n3          False      False       False   False     False   False   \n4          False      False       False   False     False   False   \n\n   WelcomeChange  SONewContent    Age  Gender  Trans  Sexuality  Ethnicity  \\\n0          False         False  False   False  False      False      False   \n1          False          True  False   False  False      False      False   \n2          False         False  False   False  False      False      False   \n3          False         False  False   False  False      False      False   \n4          False         False  False   False  False      False      False   \n\n   Dependents  SurveyLength  SurveyEase  \n0       False         False       False  \n1       False         False       False  \n2       False         False       False  \n3       False         False       False  \n4       False         False       False  ",
            "text/html": "<div>\n<style scoped>\n    .dataframe tbody tr th:only-of-type {\n        vertical-align: middle;\n    }\n\n    .dataframe tbody tr th {\n        vertical-align: top;\n    }\n\n    .dataframe thead th {\n        text-align: right;\n    }\n</style>\n<table border=\"1\" class=\"dataframe\">\n  <thead>\n    <tr style=\"text-align: right;\">\n      <th></th>\n      <th>Respondent</th>\n      <th>MainBranch</th>\n      <th>Hobbyist</th>\n      <th>OpenSourcer</th>\n      <th>OpenSource</th>\n      <th>Employment</th>\n      <th>Country</th>\n      <th>Student</th>\n      <th>EdLevel</th>\n      <th>UndergradMajor</th>\n      <th>EduOther</th>\n      <th>OrgSize</th>\n      <th>DevType</th>\n      <th>YearsCode</th>\n      <th>Age1stCode</th>\n      <th>YearsCodePro</th>\n      <th>CareerSat</th>\n      <th>JobSat</th>\n      <th>MgrIdiot</th>\n      <th>MgrMoney</th>\n      <th>MgrWant</th>\n      <th>JobSeek</th>\n      <th>LastHireDate</th>\n      <th>LastInt</th>\n      <th>FizzBuzz</th>\n      <th>JobFactors</th>\n      <th>ResumeUpdate</th>\n      <th>CurrencySymbol</th>\n      <th>CurrencyDesc</th>\n      <th>CompTotal</th>\n      <th>CompFreq</th>\n      <th>ConvertedComp</th>\n      <th>WorkWeekHrs</th>\n      <th>WorkPlan</th>\n      <th>WorkChallenge</th>\n      <th>WorkRemote</th>\n      <th>WorkLoc</th>\n      <th>ImpSyn</th>\n      <th>CodeRev</th>\n      <th>CodeRevHrs</th>\n      <th>UnitTests</th>\n      <th>PurchaseHow</th>\n      <th>PurchaseWhat</th>\n      <th>LanguageWorkedWith</th>\n      <th>LanguageDesireNextYear</th>\n      <th>DatabaseWorkedWith</th>\n      <th>DatabaseDesireNextYear</th>\n      <th>PlatformWorkedWith</th>\n      <th>PlatformDesireNextYear</th>\n      <th>WebFrameWorkedWith</th>\n      <th>WebFrameDesireNextYear</th>\n      <th>MiscTechWorkedWith</th>\n      <th>MiscTechDesireNextYear</th>\n      <th>DevEnviron</th>\n      <th>OpSys</th>\n      <th>Containers</th>\n      <th>BlockchainOrg</th>\n      <th>BlockchainIs</th>\n      <th>BetterLife</th>\n      <th>ITperson</th>\n      <th>OffOn</th>\n      <th>SocialMedia</th>\n      <th>Extraversion</th>\n      <th>ScreenName</th>\n      <th>SOVisit1st</th>\n      <th>SOVisitFreq</th>\n      <th>SOVisitTo</th>\n      <th>SOFindAnswer</th>\n      <th>SOTimeSaved</th>\n      <th>SOHowMuchTime</th>\n      <th>SOAccount</th>\n      <th>SOPartFreq</th>\n      <th>SOJobs</th>\n      <th>EntTeams</th>\n      <th>SOComm</th>\n      <th>WelcomeChange</th>\n      <th>SONewContent</th>\n      <th>Age</th>\n      <th>Gender</th>\n      <th>Trans</th>\n      <th>Sexuality</th>\n      <th>Ethnicity</th>\n      <th>Dependents</th>\n      <th>SurveyLength</th>\n      <th>SurveyEase</th>\n    </tr>\n  </thead>\n  <tbody>\n    <tr>\n      <th>0</th>\n      <td>False</td>\n      <td>False</td>\n      <td>False</td>\n      <td>False</td>\n      <td>False</td>\n      <td>False</td>\n      <td>False</td>\n      <td>False</td>\n      <td>False</td>\n      <td>False</td>\n      <td>False</td>\n      <td>False</td>\n      <td>False</td>\n      <td>False</td>\n      <td>False</td>\n      <td>False</td>\n      <td>False</td>\n      <td>False</td>\n      <td>False</td>\n      <td>False</td>\n      <td>False</td>\n      <td>False</td>\n      <td>False</td>\n      <td>False</td>\n      <td>False</td>\n      <td>False</td>\n      <td>False</td>\n      <td>False</td>\n      <td>False</td>\n      <td>False</td>\n      <td>False</td>\n      <td>False</td>\n      <td>False</td>\n      <td>False</td>\n      <td>True</td>\n      <td>False</td>\n      <td>False</td>\n      <td>False</td>\n      <td>False</td>\n      <td>True</td>\n      <td>False</td>\n      <td>False</td>\n      <td>False</td>\n      <td>False</td>\n      <td>False</td>\n      <td>False</td>\n      <td>False</td>\n      <td>False</td>\n      <td>False</td>\n      <td>True</td>\n      <td>True</td>\n      <td>False</td>\n      <td>False</td>\n      <td>False</td>\n      <td>False</td>\n      <td>False</td>\n      <td>False</td>\n      <td>False</td>\n      <td>False</td>\n      <td>False</td>\n      <td>False</td>\n      <td>False</td>\n      <td>False</td>\n      <td>False</td>\n      <td>False</td>\n      <td>False</td>\n      <td>False</td>\n      <td>False</td>\n      <td>False</td>\n      <td>False</td>\n      <td>False</td>\n      <td>False</td>\n      <td>False</td>\n      <td>False</td>\n      <td>False</td>\n      <td>False</td>\n      <td>False</td>\n      <td>False</td>\n      <td>False</td>\n      <td>False</td>\n      <td>False</td>\n      <td>False</td>\n      <td>False</td>\n      <td>False</td>\n      <td>False</td>\n    </tr>\n    <tr>\n      <th>1</th>\n      <td>False</td>\n      <td>False</td>\n      <td>False</td>\n      <td>False</td>\n      <td>False</td>\n      <td>False</td>\n      <td>False</td>\n      <td>False</td>\n      <td>False</td>\n      <td>False</td>\n      <td>False</td>\n      <td>False</td>\n      <td>False</td>\n      <td>False</td>\n      <td>False</td>\n      <td>False</td>\n      <td>False</td>\n      <td>False</td>\n      <td>False</td>\n      <td>False</td>\n      <td>False</td>\n      <td>False</td>\n      <td>False</td>\n      <td>False</td>\n      <td>False</td>\n      <td>False</td>\n      <td>False</td>\n      <td>False</td>\n      <td>False</td>\n      <td>False</td>\n      <td>False</td>\n      <td>False</td>\n      <td>False</td>\n      <td>False</td>\n      <td>False</td>\n      <td>False</td>\n      <td>False</td>\n      <td>False</td>\n      <td>False</td>\n      <td>False</td>\n      <td>False</td>\n      <td>False</td>\n      <td>False</td>\n      <td>False</td>\n      <td>False</td>\n      <td>False</td>\n      <td>False</td>\n      <td>False</td>\n      <td>False</td>\n      <td>False</td>\n      <td>False</td>\n      <td>False</td>\n      <td>False</td>\n      <td>False</td>\n      <td>False</td>\n      <td>False</td>\n      <td>False</td>\n      <td>False</td>\n      <td>False</td>\n      <td>False</td>\n      <td>False</td>\n      <td>False</td>\n      <td>False</td>\n      <td>False</td>\n      <td>False</td>\n      <td>False</td>\n      <td>False</td>\n      <td>False</td>\n      <td>False</td>\n      <td>True</td>\n      <td>False</td>\n      <td>False</td>\n      <td>False</td>\n      <td>False</td>\n      <td>False</td>\n      <td>False</td>\n      <td>True</td>\n      <td>False</td>\n      <td>False</td>\n      <td>False</td>\n      <td>False</td>\n      <td>False</td>\n      <td>False</td>\n      <td>False</td>\n      <td>False</td>\n    </tr>\n    <tr>\n      <th>2</th>\n      <td>False</td>\n      <td>False</td>\n      <td>False</td>\n      <td>False</td>\n      <td>False</td>\n      <td>False</td>\n      <td>False</td>\n      <td>False</td>\n      <td>False</td>\n      <td>False</td>\n      <td>False</td>\n      <td>False</td>\n      <td>False</td>\n      <td>False</td>\n      <td>False</td>\n      <td>False</td>\n      <td>False</td>\n      <td>False</td>\n      <td>True</td>\n      <td>True</td>\n      <td>True</td>\n      <td>False</td>\n      <td>False</td>\n      <td>False</td>\n      <td>False</td>\n      <td>False</td>\n      <td>False</td>\n      <td>False</td>\n      <td>False</td>\n      <td>False</td>\n      <td>False</td>\n      <td>False</td>\n      <td>False</td>\n      <td>False</td>\n      <td>False</td>\n      <td>False</td>\n      <td>False</td>\n      <td>False</td>\n      <td>False</td>\n      <td>False</td>\n      <td>False</td>\n      <td>False</td>\n      <td>False</td>\n      <td>False</td>\n      <td>False</td>\n      <td>False</td>\n      <td>False</td>\n      <td>False</td>\n      <td>False</td>\n      <td>False</td>\n      <td>False</td>\n      <td>False</td>\n      <td>False</td>\n      <td>False</td>\n      <td>False</td>\n      <td>False</td>\n      <td>False</td>\n      <td>False</td>\n      <td>False</td>\n      <td>False</td>\n      <td>False</td>\n      <td>False</td>\n      <td>False</td>\n      <td>False</td>\n      <td>False</td>\n      <td>False</td>\n      <td>False</td>\n      <td>False</td>\n      <td>False</td>\n      <td>False</td>\n      <td>False</td>\n      <td>False</td>\n      <td>False</td>\n      <td>False</td>\n      <td>False</td>\n      <td>False</td>\n      <td>False</td>\n      <td>False</td>\n      <td>False</td>\n      <td>False</td>\n      <td>False</td>\n      <td>False</td>\n      <td>False</td>\n      <td>False</td>\n      <td>False</td>\n    </tr>\n    <tr>\n      <th>3</th>\n      <td>False</td>\n      <td>False</td>\n      <td>False</td>\n      <td>False</td>\n      <td>False</td>\n      <td>False</td>\n      <td>False</td>\n      <td>False</td>\n      <td>False</td>\n      <td>True</td>\n      <td>False</td>\n      <td>False</td>\n      <td>False</td>\n      <td>False</td>\n      <td>False</td>\n      <td>False</td>\n      <td>False</td>\n      <td>False</td>\n      <td>False</td>\n      <td>False</td>\n      <td>False</td>\n      <td>False</td>\n      <td>False</td>\n      <td>False</td>\n      <td>False</td>\n      <td>False</td>\n      <td>False</td>\n      <td>False</td>\n      <td>False</td>\n      <td>False</td>\n      <td>False</td>\n      <td>False</td>\n      <td>False</td>\n      <td>False</td>\n      <td>False</td>\n      <td>False</td>\n      <td>False</td>\n      <td>False</td>\n      <td>False</td>\n      <td>True</td>\n      <td>False</td>\n      <td>False</td>\n      <td>False</td>\n      <td>False</td>\n      <td>False</td>\n      <td>False</td>\n      <td>False</td>\n      <td>True</td>\n      <td>False</td>\n      <td>False</td>\n      <td>False</td>\n      <td>False</td>\n      <td>False</td>\n      <td>False</td>\n      <td>False</td>\n      <td>False</td>\n      <td>False</td>\n      <td>False</td>\n      <td>False</td>\n      <td>False</td>\n      <td>False</td>\n      <td>False</td>\n      <td>False</td>\n      <td>False</td>\n      <td>False</td>\n      <td>False</td>\n      <td>False</td>\n      <td>False</td>\n      <td>False</td>\n      <td>False</td>\n      <td>False</td>\n      <td>False</td>\n      <td>False</td>\n      <td>False</td>\n      <td>False</td>\n      <td>False</td>\n      <td>False</td>\n      <td>False</td>\n      <td>False</td>\n      <td>False</td>\n      <td>False</td>\n      <td>False</td>\n      <td>False</td>\n      <td>False</td>\n      <td>False</td>\n    </tr>\n    <tr>\n      <th>4</th>\n      <td>False</td>\n      <td>False</td>\n      <td>False</td>\n      <td>False</td>\n      <td>False</td>\n      <td>False</td>\n      <td>False</td>\n      <td>False</td>\n      <td>False</td>\n      <td>False</td>\n      <td>False</td>\n      <td>False</td>\n      <td>False</td>\n      <td>False</td>\n      <td>False</td>\n      <td>False</td>\n      <td>False</td>\n      <td>False</td>\n      <td>False</td>\n      <td>False</td>\n      <td>False</td>\n      <td>False</td>\n      <td>False</td>\n      <td>False</td>\n      <td>False</td>\n      <td>False</td>\n      <td>False</td>\n      <td>False</td>\n      <td>False</td>\n      <td>False</td>\n      <td>False</td>\n      <td>False</td>\n      <td>False</td>\n      <td>False</td>\n      <td>False</td>\n      <td>False</td>\n      <td>False</td>\n      <td>False</td>\n      <td>False</td>\n      <td>False</td>\n      <td>False</td>\n      <td>False</td>\n      <td>False</td>\n      <td>False</td>\n      <td>False</td>\n      <td>False</td>\n      <td>False</td>\n      <td>False</td>\n      <td>False</td>\n      <td>False</td>\n      <td>False</td>\n      <td>False</td>\n      <td>False</td>\n      <td>False</td>\n      <td>False</td>\n      <td>False</td>\n      <td>False</td>\n      <td>False</td>\n      <td>False</td>\n      <td>False</td>\n      <td>False</td>\n      <td>False</td>\n      <td>False</td>\n      <td>True</td>\n      <td>False</td>\n      <td>False</td>\n      <td>False</td>\n      <td>False</td>\n      <td>False</td>\n      <td>False</td>\n      <td>False</td>\n      <td>False</td>\n      <td>False</td>\n      <td>False</td>\n      <td>False</td>\n      <td>False</td>\n      <td>False</td>\n      <td>False</td>\n      <td>False</td>\n      <td>False</td>\n      <td>False</td>\n      <td>False</td>\n      <td>False</td>\n      <td>False</td>\n      <td>False</td>\n    </tr>\n  </tbody>\n</table>\n</div>"
          },
          "metadata": {}
        }
      ],
      "execution_count": 78
    },
    {
      "cell_type": "code",
      "source": "data_missing.mean()",
      "metadata": {
        "trusted": true
      },
      "outputs": [
        {
          "execution_count": 79,
          "output_type": "execute_result",
          "data": {
            "text/plain": "Respondent      0.000000\nMainBranch      0.000000\nHobbyist        0.000000\nOpenSourcer     0.000000\nOpenSource      0.007107\n                  ...   \nSexuality       0.047552\nEthnicity       0.059221\nDependents      0.012283\nSurveyLength    0.001667\nSurveyEase      0.001228\nLength: 85, dtype: float64"
          },
          "metadata": {}
        }
      ],
      "execution_count": 79
    },
    {
      "cell_type": "code",
      "source": "data_missing.isna().mean().round(4) * 100",
      "metadata": {
        "trusted": true
      },
      "outputs": [
        {
          "execution_count": 83,
          "output_type": "execute_result",
          "data": {
            "text/plain": "Respondent      0.0\nMainBranch      0.0\nHobbyist        0.0\nOpenSourcer     0.0\nOpenSource      0.0\n               ... \nSexuality       0.0\nEthnicity       0.0\nDependents      0.0\nSurveyLength    0.0\nSurveyEase      0.0\nLength: 85, dtype: float64"
          },
          "metadata": {}
        }
      ],
      "execution_count": 83
    },
    {
      "cell_type": "code",
      "source": " data_missing.count()/ len(data_missing)",
      "metadata": {
        "trusted": true
      },
      "outputs": [
        {
          "execution_count": 89,
          "output_type": "execute_result",
          "data": {
            "text/plain": "Respondent      1.0\nMainBranch      1.0\nHobbyist        1.0\nOpenSourcer     1.0\nOpenSource      1.0\n               ... \nSexuality       1.0\nEthnicity       1.0\nDependents      1.0\nSurveyLength    1.0\nSurveyEase      1.0\nLength: 85, dtype: float64"
          },
          "metadata": {}
        }
      ],
      "execution_count": 89
    },
    {
      "cell_type": "code",
      "source": "data = pd.isnull(data_clean)\ndata.head()",
      "metadata": {
        "trusted": true
      },
      "outputs": [
        {
          "execution_count": 92,
          "output_type": "execute_result",
          "data": {
            "text/plain": "   Respondent  MainBranch  Hobbyist  OpenSourcer  OpenSource  Employment  \\\n0       False       False     False        False       False       False   \n1       False       False     False        False       False       False   \n2       False       False     False        False       False       False   \n3       False       False     False        False       False       False   \n4       False       False     False        False       False       False   \n\n   Country  Student  EdLevel  UndergradMajor  EduOther  OrgSize  DevType  \\\n0    False    False    False           False     False    False    False   \n1    False    False    False           False     False    False    False   \n2    False    False    False           False     False    False    False   \n3    False    False    False            True     False    False    False   \n4    False    False    False           False     False    False    False   \n\n   YearsCode  Age1stCode  YearsCodePro  CareerSat  JobSat  MgrIdiot  MgrMoney  \\\n0      False       False         False      False   False     False     False   \n1      False       False         False      False   False     False     False   \n2      False       False         False      False   False      True      True   \n3      False       False         False      False   False     False     False   \n4      False       False         False      False   False     False     False   \n\n   MgrWant  JobSeek  LastHireDate  LastInt  FizzBuzz  JobFactors  \\\n0    False    False         False    False     False       False   \n1    False    False         False    False     False       False   \n2     True    False         False    False     False       False   \n3    False    False         False    False     False       False   \n4    False    False         False    False     False       False   \n\n   ResumeUpdate  CurrencySymbol  CurrencyDesc  CompTotal  CompFreq  \\\n0         False           False         False      False     False   \n1         False           False         False      False     False   \n2         False           False         False      False     False   \n3         False           False         False      False     False   \n4         False           False         False      False     False   \n\n   ConvertedComp  WorkWeekHrs  WorkPlan  WorkChallenge  WorkRemote  WorkLoc  \\\n0          False        False     False           True       False    False   \n1          False        False     False          False       False    False   \n2          False        False     False          False       False    False   \n3          False        False     False          False       False    False   \n4          False        False     False          False       False    False   \n\n   ImpSyn  CodeRev  CodeRevHrs  UnitTests  PurchaseHow  PurchaseWhat  \\\n0   False    False        True      False        False         False   \n1   False    False       False      False        False         False   \n2   False    False       False      False        False         False   \n3   False    False        True      False        False         False   \n4   False    False       False      False        False         False   \n\n   LanguageWorkedWith  LanguageDesireNextYear  DatabaseWorkedWith  \\\n0               False                   False               False   \n1               False                   False               False   \n2               False                   False               False   \n3               False                   False               False   \n4               False                   False               False   \n\n   DatabaseDesireNextYear  PlatformWorkedWith  PlatformDesireNextYear  \\\n0                   False               False                   False   \n1                   False               False                   False   \n2                   False               False                   False   \n3                   False                True                   False   \n4                   False               False                   False   \n\n   WebFrameWorkedWith  WebFrameDesireNextYear  MiscTechWorkedWith  \\\n0                True                    True               False   \n1               False                   False               False   \n2               False                   False               False   \n3               False                   False               False   \n4               False                   False               False   \n\n   MiscTechDesireNextYear  DevEnviron  OpSys  Containers  BlockchainOrg  \\\n0                   False       False  False       False          False   \n1                   False       False  False       False          False   \n2                   False       False  False       False          False   \n3                   False       False  False       False          False   \n4                   False       False  False       False          False   \n\n   BlockchainIs  BetterLife  ITperson  OffOn  SocialMedia  Extraversion  \\\n0         False       False     False  False        False         False   \n1         False       False     False  False        False         False   \n2         False       False     False  False        False         False   \n3         False       False     False  False        False         False   \n4         False       False     False  False        False         False   \n\n   ScreenName  SOVisit1st  SOVisitFreq  SOVisitTo  SOFindAnswer  SOTimeSaved  \\\n0       False       False        False      False         False        False   \n1       False       False        False      False         False        False   \n2       False       False        False      False         False        False   \n3       False       False        False      False         False        False   \n4        True       False        False      False         False        False   \n\n   SOHowMuchTime  SOAccount  SOPartFreq  SOJobs  EntTeams  SOComm  \\\n0          False      False       False   False     False   False   \n1           True      False       False   False     False   False   \n2          False      False       False   False     False   False   \n3          False      False       False   False     False   False   \n4          False      False       False   False     False   False   \n\n   WelcomeChange  SONewContent    Age  Gender  Trans  Sexuality  Ethnicity  \\\n0          False         False  False   False  False      False      False   \n1          False          True  False   False  False      False      False   \n2          False         False  False   False  False      False      False   \n3          False         False  False   False  False      False      False   \n4          False         False  False   False  False      False      False   \n\n   Dependents  SurveyLength  SurveyEase  \n0       False         False       False  \n1       False         False       False  \n2       False         False       False  \n3       False         False       False  \n4       False         False       False  ",
            "text/html": "<div>\n<style scoped>\n    .dataframe tbody tr th:only-of-type {\n        vertical-align: middle;\n    }\n\n    .dataframe tbody tr th {\n        vertical-align: top;\n    }\n\n    .dataframe thead th {\n        text-align: right;\n    }\n</style>\n<table border=\"1\" class=\"dataframe\">\n  <thead>\n    <tr style=\"text-align: right;\">\n      <th></th>\n      <th>Respondent</th>\n      <th>MainBranch</th>\n      <th>Hobbyist</th>\n      <th>OpenSourcer</th>\n      <th>OpenSource</th>\n      <th>Employment</th>\n      <th>Country</th>\n      <th>Student</th>\n      <th>EdLevel</th>\n      <th>UndergradMajor</th>\n      <th>EduOther</th>\n      <th>OrgSize</th>\n      <th>DevType</th>\n      <th>YearsCode</th>\n      <th>Age1stCode</th>\n      <th>YearsCodePro</th>\n      <th>CareerSat</th>\n      <th>JobSat</th>\n      <th>MgrIdiot</th>\n      <th>MgrMoney</th>\n      <th>MgrWant</th>\n      <th>JobSeek</th>\n      <th>LastHireDate</th>\n      <th>LastInt</th>\n      <th>FizzBuzz</th>\n      <th>JobFactors</th>\n      <th>ResumeUpdate</th>\n      <th>CurrencySymbol</th>\n      <th>CurrencyDesc</th>\n      <th>CompTotal</th>\n      <th>CompFreq</th>\n      <th>ConvertedComp</th>\n      <th>WorkWeekHrs</th>\n      <th>WorkPlan</th>\n      <th>WorkChallenge</th>\n      <th>WorkRemote</th>\n      <th>WorkLoc</th>\n      <th>ImpSyn</th>\n      <th>CodeRev</th>\n      <th>CodeRevHrs</th>\n      <th>UnitTests</th>\n      <th>PurchaseHow</th>\n      <th>PurchaseWhat</th>\n      <th>LanguageWorkedWith</th>\n      <th>LanguageDesireNextYear</th>\n      <th>DatabaseWorkedWith</th>\n      <th>DatabaseDesireNextYear</th>\n      <th>PlatformWorkedWith</th>\n      <th>PlatformDesireNextYear</th>\n      <th>WebFrameWorkedWith</th>\n      <th>WebFrameDesireNextYear</th>\n      <th>MiscTechWorkedWith</th>\n      <th>MiscTechDesireNextYear</th>\n      <th>DevEnviron</th>\n      <th>OpSys</th>\n      <th>Containers</th>\n      <th>BlockchainOrg</th>\n      <th>BlockchainIs</th>\n      <th>BetterLife</th>\n      <th>ITperson</th>\n      <th>OffOn</th>\n      <th>SocialMedia</th>\n      <th>Extraversion</th>\n      <th>ScreenName</th>\n      <th>SOVisit1st</th>\n      <th>SOVisitFreq</th>\n      <th>SOVisitTo</th>\n      <th>SOFindAnswer</th>\n      <th>SOTimeSaved</th>\n      <th>SOHowMuchTime</th>\n      <th>SOAccount</th>\n      <th>SOPartFreq</th>\n      <th>SOJobs</th>\n      <th>EntTeams</th>\n      <th>SOComm</th>\n      <th>WelcomeChange</th>\n      <th>SONewContent</th>\n      <th>Age</th>\n      <th>Gender</th>\n      <th>Trans</th>\n      <th>Sexuality</th>\n      <th>Ethnicity</th>\n      <th>Dependents</th>\n      <th>SurveyLength</th>\n      <th>SurveyEase</th>\n    </tr>\n  </thead>\n  <tbody>\n    <tr>\n      <th>0</th>\n      <td>False</td>\n      <td>False</td>\n      <td>False</td>\n      <td>False</td>\n      <td>False</td>\n      <td>False</td>\n      <td>False</td>\n      <td>False</td>\n      <td>False</td>\n      <td>False</td>\n      <td>False</td>\n      <td>False</td>\n      <td>False</td>\n      <td>False</td>\n      <td>False</td>\n      <td>False</td>\n      <td>False</td>\n      <td>False</td>\n      <td>False</td>\n      <td>False</td>\n      <td>False</td>\n      <td>False</td>\n      <td>False</td>\n      <td>False</td>\n      <td>False</td>\n      <td>False</td>\n      <td>False</td>\n      <td>False</td>\n      <td>False</td>\n      <td>False</td>\n      <td>False</td>\n      <td>False</td>\n      <td>False</td>\n      <td>False</td>\n      <td>True</td>\n      <td>False</td>\n      <td>False</td>\n      <td>False</td>\n      <td>False</td>\n      <td>True</td>\n      <td>False</td>\n      <td>False</td>\n      <td>False</td>\n      <td>False</td>\n      <td>False</td>\n      <td>False</td>\n      <td>False</td>\n      <td>False</td>\n      <td>False</td>\n      <td>True</td>\n      <td>True</td>\n      <td>False</td>\n      <td>False</td>\n      <td>False</td>\n      <td>False</td>\n      <td>False</td>\n      <td>False</td>\n      <td>False</td>\n      <td>False</td>\n      <td>False</td>\n      <td>False</td>\n      <td>False</td>\n      <td>False</td>\n      <td>False</td>\n      <td>False</td>\n      <td>False</td>\n      <td>False</td>\n      <td>False</td>\n      <td>False</td>\n      <td>False</td>\n      <td>False</td>\n      <td>False</td>\n      <td>False</td>\n      <td>False</td>\n      <td>False</td>\n      <td>False</td>\n      <td>False</td>\n      <td>False</td>\n      <td>False</td>\n      <td>False</td>\n      <td>False</td>\n      <td>False</td>\n      <td>False</td>\n      <td>False</td>\n      <td>False</td>\n    </tr>\n    <tr>\n      <th>1</th>\n      <td>False</td>\n      <td>False</td>\n      <td>False</td>\n      <td>False</td>\n      <td>False</td>\n      <td>False</td>\n      <td>False</td>\n      <td>False</td>\n      <td>False</td>\n      <td>False</td>\n      <td>False</td>\n      <td>False</td>\n      <td>False</td>\n      <td>False</td>\n      <td>False</td>\n      <td>False</td>\n      <td>False</td>\n      <td>False</td>\n      <td>False</td>\n      <td>False</td>\n      <td>False</td>\n      <td>False</td>\n      <td>False</td>\n      <td>False</td>\n      <td>False</td>\n      <td>False</td>\n      <td>False</td>\n      <td>False</td>\n      <td>False</td>\n      <td>False</td>\n      <td>False</td>\n      <td>False</td>\n      <td>False</td>\n      <td>False</td>\n      <td>False</td>\n      <td>False</td>\n      <td>False</td>\n      <td>False</td>\n      <td>False</td>\n      <td>False</td>\n      <td>False</td>\n      <td>False</td>\n      <td>False</td>\n      <td>False</td>\n      <td>False</td>\n      <td>False</td>\n      <td>False</td>\n      <td>False</td>\n      <td>False</td>\n      <td>False</td>\n      <td>False</td>\n      <td>False</td>\n      <td>False</td>\n      <td>False</td>\n      <td>False</td>\n      <td>False</td>\n      <td>False</td>\n      <td>False</td>\n      <td>False</td>\n      <td>False</td>\n      <td>False</td>\n      <td>False</td>\n      <td>False</td>\n      <td>False</td>\n      <td>False</td>\n      <td>False</td>\n      <td>False</td>\n      <td>False</td>\n      <td>False</td>\n      <td>True</td>\n      <td>False</td>\n      <td>False</td>\n      <td>False</td>\n      <td>False</td>\n      <td>False</td>\n      <td>False</td>\n      <td>True</td>\n      <td>False</td>\n      <td>False</td>\n      <td>False</td>\n      <td>False</td>\n      <td>False</td>\n      <td>False</td>\n      <td>False</td>\n      <td>False</td>\n    </tr>\n    <tr>\n      <th>2</th>\n      <td>False</td>\n      <td>False</td>\n      <td>False</td>\n      <td>False</td>\n      <td>False</td>\n      <td>False</td>\n      <td>False</td>\n      <td>False</td>\n      <td>False</td>\n      <td>False</td>\n      <td>False</td>\n      <td>False</td>\n      <td>False</td>\n      <td>False</td>\n      <td>False</td>\n      <td>False</td>\n      <td>False</td>\n      <td>False</td>\n      <td>True</td>\n      <td>True</td>\n      <td>True</td>\n      <td>False</td>\n      <td>False</td>\n      <td>False</td>\n      <td>False</td>\n      <td>False</td>\n      <td>False</td>\n      <td>False</td>\n      <td>False</td>\n      <td>False</td>\n      <td>False</td>\n      <td>False</td>\n      <td>False</td>\n      <td>False</td>\n      <td>False</td>\n      <td>False</td>\n      <td>False</td>\n      <td>False</td>\n      <td>False</td>\n      <td>False</td>\n      <td>False</td>\n      <td>False</td>\n      <td>False</td>\n      <td>False</td>\n      <td>False</td>\n      <td>False</td>\n      <td>False</td>\n      <td>False</td>\n      <td>False</td>\n      <td>False</td>\n      <td>False</td>\n      <td>False</td>\n      <td>False</td>\n      <td>False</td>\n      <td>False</td>\n      <td>False</td>\n      <td>False</td>\n      <td>False</td>\n      <td>False</td>\n      <td>False</td>\n      <td>False</td>\n      <td>False</td>\n      <td>False</td>\n      <td>False</td>\n      <td>False</td>\n      <td>False</td>\n      <td>False</td>\n      <td>False</td>\n      <td>False</td>\n      <td>False</td>\n      <td>False</td>\n      <td>False</td>\n      <td>False</td>\n      <td>False</td>\n      <td>False</td>\n      <td>False</td>\n      <td>False</td>\n      <td>False</td>\n      <td>False</td>\n      <td>False</td>\n      <td>False</td>\n      <td>False</td>\n      <td>False</td>\n      <td>False</td>\n      <td>False</td>\n    </tr>\n    <tr>\n      <th>3</th>\n      <td>False</td>\n      <td>False</td>\n      <td>False</td>\n      <td>False</td>\n      <td>False</td>\n      <td>False</td>\n      <td>False</td>\n      <td>False</td>\n      <td>False</td>\n      <td>True</td>\n      <td>False</td>\n      <td>False</td>\n      <td>False</td>\n      <td>False</td>\n      <td>False</td>\n      <td>False</td>\n      <td>False</td>\n      <td>False</td>\n      <td>False</td>\n      <td>False</td>\n      <td>False</td>\n      <td>False</td>\n      <td>False</td>\n      <td>False</td>\n      <td>False</td>\n      <td>False</td>\n      <td>False</td>\n      <td>False</td>\n      <td>False</td>\n      <td>False</td>\n      <td>False</td>\n      <td>False</td>\n      <td>False</td>\n      <td>False</td>\n      <td>False</td>\n      <td>False</td>\n      <td>False</td>\n      <td>False</td>\n      <td>False</td>\n      <td>True</td>\n      <td>False</td>\n      <td>False</td>\n      <td>False</td>\n      <td>False</td>\n      <td>False</td>\n      <td>False</td>\n      <td>False</td>\n      <td>True</td>\n      <td>False</td>\n      <td>False</td>\n      <td>False</td>\n      <td>False</td>\n      <td>False</td>\n      <td>False</td>\n      <td>False</td>\n      <td>False</td>\n      <td>False</td>\n      <td>False</td>\n      <td>False</td>\n      <td>False</td>\n      <td>False</td>\n      <td>False</td>\n      <td>False</td>\n      <td>False</td>\n      <td>False</td>\n      <td>False</td>\n      <td>False</td>\n      <td>False</td>\n      <td>False</td>\n      <td>False</td>\n      <td>False</td>\n      <td>False</td>\n      <td>False</td>\n      <td>False</td>\n      <td>False</td>\n      <td>False</td>\n      <td>False</td>\n      <td>False</td>\n      <td>False</td>\n      <td>False</td>\n      <td>False</td>\n      <td>False</td>\n      <td>False</td>\n      <td>False</td>\n      <td>False</td>\n    </tr>\n    <tr>\n      <th>4</th>\n      <td>False</td>\n      <td>False</td>\n      <td>False</td>\n      <td>False</td>\n      <td>False</td>\n      <td>False</td>\n      <td>False</td>\n      <td>False</td>\n      <td>False</td>\n      <td>False</td>\n      <td>False</td>\n      <td>False</td>\n      <td>False</td>\n      <td>False</td>\n      <td>False</td>\n      <td>False</td>\n      <td>False</td>\n      <td>False</td>\n      <td>False</td>\n      <td>False</td>\n      <td>False</td>\n      <td>False</td>\n      <td>False</td>\n      <td>False</td>\n      <td>False</td>\n      <td>False</td>\n      <td>False</td>\n      <td>False</td>\n      <td>False</td>\n      <td>False</td>\n      <td>False</td>\n      <td>False</td>\n      <td>False</td>\n      <td>False</td>\n      <td>False</td>\n      <td>False</td>\n      <td>False</td>\n      <td>False</td>\n      <td>False</td>\n      <td>False</td>\n      <td>False</td>\n      <td>False</td>\n      <td>False</td>\n      <td>False</td>\n      <td>False</td>\n      <td>False</td>\n      <td>False</td>\n      <td>False</td>\n      <td>False</td>\n      <td>False</td>\n      <td>False</td>\n      <td>False</td>\n      <td>False</td>\n      <td>False</td>\n      <td>False</td>\n      <td>False</td>\n      <td>False</td>\n      <td>False</td>\n      <td>False</td>\n      <td>False</td>\n      <td>False</td>\n      <td>False</td>\n      <td>False</td>\n      <td>True</td>\n      <td>False</td>\n      <td>False</td>\n      <td>False</td>\n      <td>False</td>\n      <td>False</td>\n      <td>False</td>\n      <td>False</td>\n      <td>False</td>\n      <td>False</td>\n      <td>False</td>\n      <td>False</td>\n      <td>False</td>\n      <td>False</td>\n      <td>False</td>\n      <td>False</td>\n      <td>False</td>\n      <td>False</td>\n      <td>False</td>\n      <td>False</td>\n      <td>False</td>\n      <td>False</td>\n    </tr>\n  </tbody>\n</table>\n</div>"
          },
          "metadata": {}
        }
      ],
      "execution_count": 92
    },
    {
      "cell_type": "code",
      "source": "pd.isnull(data_clean).sum().sum()",
      "metadata": {
        "trusted": true
      },
      "outputs": [
        {
          "execution_count": 93,
          "output_type": "execute_result",
          "data": {
            "text/plain": "30967"
          },
          "metadata": {}
        }
      ],
      "execution_count": 93
    },
    {
      "cell_type": "markdown",
      "source": "Find out how many rows are missing in the column 'WorkLoc'\n",
      "metadata": {}
    },
    {
      "cell_type": "code",
      "source": "# your code goes here\nmissing_rows=df['WorkLoc'].isnull().sum()\nprint(f'Number of missing rows in \"WorkLoc\"columns :{missing_rows}')",
      "metadata": {
        "trusted": true
      },
      "outputs": [
        {
          "name": "stdout",
          "text": "Number of missing rows in \"WorkLoc\"columns :32\n",
          "output_type": "stream"
        }
      ],
      "execution_count": 100
    },
    {
      "cell_type": "markdown",
      "source": "## Imputing missing values\n",
      "metadata": {}
    },
    {
      "cell_type": "markdown",
      "source": "Find the  value counts for the column WorkLoc.\n",
      "metadata": {}
    },
    {
      "cell_type": "code",
      "source": "# your code goes here\nWorkloc_counts = df['WorkLoc'].value_counts()\nprint(Workloc_counts)",
      "metadata": {
        "trusted": true
      },
      "outputs": [
        {
          "name": "stdout",
          "text": "WorkLoc\nOffice                                            6905\nHome                                              3638\nOther place, such as a coworking space or cafe     977\nName: count, dtype: int64\n",
          "output_type": "stream"
        }
      ],
      "execution_count": 104
    },
    {
      "cell_type": "markdown",
      "source": "Identify the value that is most frequent (majority) in the WorkLoc column.\n",
      "metadata": {}
    },
    {
      "cell_type": "code",
      "source": "#make a note of the majority value here, for future reference\nfrequent = df ['WorkLoc'].value_counts().idxmax()\nprint(frequent)",
      "metadata": {
        "trusted": true
      },
      "outputs": [
        {
          "name": "stdout",
          "text": "Office\n",
          "output_type": "stream"
        }
      ],
      "execution_count": 106
    },
    {
      "cell_type": "markdown",
      "source": "Impute (replace) all the empty rows in the column WorkLoc with the value that you have identified as majority.\n",
      "metadata": {}
    },
    {
      "cell_type": "code",
      "source": "# your code goes here\ndf['WorkLoc'].fillna(frequent, inplace=True)\nprint(df['WorkLoc'].isnull().sum())",
      "metadata": {
        "trusted": true
      },
      "outputs": [
        {
          "name": "stdout",
          "text": "0\n",
          "output_type": "stream"
        }
      ],
      "execution_count": 110
    },
    {
      "cell_type": "markdown",
      "source": "After imputation there should ideally not be any empty rows in the WorkLoc column.\n",
      "metadata": {}
    },
    {
      "cell_type": "markdown",
      "source": "Verify if imputing was successful.\n",
      "metadata": {}
    },
    {
      "cell_type": "code",
      "source": "# your code goes here\nmissing_value = df['WorkLoc'].isnull().sum()\nif missing_value == 0 :\n    print(\"imputing was successful''WorkLoc'.\")\nelse:\n    print(f\"Imputation unsuccessful. There are still {missing_values} missing values in 'WorkLoc'.\")",
      "metadata": {
        "trusted": true
      },
      "outputs": [
        {
          "name": "stdout",
          "text": "imputing was successful''WorkLoc'.\n",
          "output_type": "stream"
        }
      ],
      "execution_count": 111
    },
    {
      "cell_type": "markdown",
      "source": "## Normalizing data\n",
      "metadata": {}
    },
    {
      "cell_type": "markdown",
      "source": "There are two columns in the dataset that talk about compensation.\n\nOne is \"CompFreq\". This column shows how often a developer is paid (Yearly, Monthly, Weekly).\n\nThe other is \"CompTotal\". This column talks about how much the developer is paid per Year, Month, or Week depending upon his/her \"CompFreq\". \n\nThis makes it difficult to compare the total compensation of the developers.\n\nIn this section you will create a new column called 'NormalizedAnnualCompensation' which contains the 'Annual Compensation' irrespective of the 'CompFreq'.\n\nOnce this column is ready, it makes comparison of salaries easy.\n",
      "metadata": {}
    },
    {
      "cell_type": "markdown",
      "source": "<hr>\n",
      "metadata": {}
    },
    {
      "cell_type": "markdown",
      "source": "List out the various categories in the column 'CompFreq'\n",
      "metadata": {}
    },
    {
      "cell_type": "code",
      "source": "com_fre = df['CompFreq'].unique()\nprint(\"Categories in 'CompFreq':\")\nprint(com_fre)",
      "metadata": {
        "trusted": true
      },
      "outputs": [
        {
          "name": "stdout",
          "text": "Categories in 'CompFreq':\n['Yearly' 'Monthly' 'Weekly' nan]\n",
          "output_type": "stream"
        }
      ],
      "execution_count": 151
    },
    {
      "cell_type": "code",
      "source": "#df.head(20)",
      "metadata": {
        "trusted": true
      },
      "outputs": [],
      "execution_count": 144
    },
    {
      "cell_type": "code",
      "source": "#sexual = df[(df['Sexuality']=='Bisexual')& (df['Country']=='United Kingdom')]\n#print(sexual[list].count())",
      "metadata": {
        "trusted": true
      },
      "outputs": [],
      "execution_count": 145
    },
    {
      "cell_type": "code",
      "source": "#sexual = df[(df['Sexuality']=='Gay or Lesbian')& (df['Country']=='Spain')]\n#print(sexual[list].count())\n#print(sexual.shape[0])",
      "metadata": {
        "trusted": true
      },
      "outputs": [],
      "execution_count": 146
    },
    {
      "cell_type": "code",
      "source": "#print(sexual.shape[0])",
      "metadata": {
        "trusted": true
      },
      "outputs": [],
      "execution_count": 147
    },
    {
      "cell_type": "code",
      "source": "# your code goes here\n",
      "metadata": {},
      "outputs": [],
      "execution_count": null
    },
    {
      "cell_type": "markdown",
      "source": "Create a new column named 'NormalizedAnnualCompensation'. Use the hint given below if needed.\n",
      "metadata": {}
    },
    {
      "cell_type": "markdown",
      "source": "Double click to see the **Hint**.\n\n<!--\n\nUse the below logic to arrive at the values for the column NormalizedAnnualCompensation.\n\nIf the CompFreq is Yearly then use the exising value in CompTotal\nIf the CompFreq is Monthly then multiply the value in CompTotal with 12 (months in an year)\nIf the CompFreq is Weekly then multiply the value in CompTotal with 52 (weeks in an year)\n\n-->\n",
      "metadata": {}
    },
    {
      "cell_type": "code",
      "source": "# your code goes here\ndf['NormalizedAnnualCompensation'] = df.apply(\n    lambda row: row['CompTotal'] if row['CompFreq'] == 'Yearly' else\n                row['CompTotal'] * 12 if row['CompFreq'] == 'Monthly' else\n                row['CompTotal'] * 52 if row['CompFreq'] == 'Weekly' else None, axis=1)\n\n# Display the first few rows\nprint(df[['CompFreq', 'CompTotal', 'NormalizedAnnualCompensation']].head())",
      "metadata": {
        "trusted": true
      },
      "outputs": [
        {
          "name": "stdout",
          "text": "  CompFreq  CompTotal  NormalizedAnnualCompensation\n0   Yearly    61000.0                       61000.0\n1   Yearly   138000.0                      138000.0\n2   Yearly    90000.0                       90000.0\n3  Monthly    29000.0                      348000.0\n4   Yearly    90000.0                       90000.0\n",
          "output_type": "stream"
        }
      ],
      "execution_count": 152
    },
    {
      "cell_type": "markdown",
      "source": "## Authors\n",
      "metadata": {}
    },
    {
      "cell_type": "markdown",
      "source": "Ramesh Sannareddy\n",
      "metadata": {}
    },
    {
      "cell_type": "markdown",
      "source": "### Other Contributors\n",
      "metadata": {}
    },
    {
      "cell_type": "markdown",
      "source": "Rav Ahuja\n",
      "metadata": {}
    },
    {
      "cell_type": "markdown",
      "source": " Copyright © 2020 IBM Corporation. This notebook and its source code are released under the terms of the [MIT License](https://cognitiveclass.ai/mit-license?utm_medium=Exinfluencer&utm_source=Exinfluencer&utm_content=000026UJ&utm_term=10006555&utm_id=NA-SkillsNetwork-Channel-SkillsNetworkCoursesIBMDA0321ENSkillsNetwork928-2022-01-01&cm_mmc=Email_Newsletter-_-Developer_Ed%2BTech-_-WW_WW-_-SkillsNetwork-Courses-IBM-DA0321EN-SkillsNetwork-21426264&cm_mmca1=000026UJ&cm_mmca2=10006555&cm_mmca3=M12345678&cvosrc=email.Newsletter.M12345678&cvo_campaign=000026UJ).\n",
      "metadata": {}
    },
    {
      "cell_type": "markdown",
      "source": "<!--## Change Log\n",
      "metadata": {}
    },
    {
      "cell_type": "markdown",
      "source": "<!--| Date (YYYY-MM-DD) | Version | Changed By        | Change Description                 |\n| ----------------- | ------- | ----------------- | ---------------------------------- |\n| 2020-10-17        | 0.1     | Ramesh Sannareddy | Created initial version of the lab |--!>\n",
      "metadata": {}
    }
  ]
}